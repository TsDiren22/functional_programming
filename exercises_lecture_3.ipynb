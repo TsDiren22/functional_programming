{
 "cells": [
  {
   "cell_type": "markdown",
   "metadata": {
    "dotnet_interactive": {
     "language": "csharp"
    },
    "polyglot_notebook": {
     "kernelName": "csharp"
    }
   },
   "source": [
    "# Recursion with pattern matching\n",
    "\n",
    "This set of exercises is meant to make you skilled at writing succinct recursive functions using pattern matching.\n",
    "\n",
    "Good luck!"
   ]
  },
  {
   "cell_type": "markdown",
   "metadata": {
    "dotnet_interactive": {
     "language": "csharp"
    },
    "polyglot_notebook": {
     "kernelName": "csharp"
    }
   },
   "source": [
    "### Exercise 1\n",
    "\n",
    "Given the list of people below, do the following using operators on lists (for example `map`, `filter`, etc.).\n",
    "\n",
    "1. Add \"Dear \" in front of each name. Result type: `string list`\n",
    "2. Create a function `string -> string` that adds \"Dear \" in front of the string. Apply this function to each name, then print each result on the console on a separate line.\n",
    "3. Show a list of all letters (including doubles).\n",
    "4. Show a list of all unique letters (Case-sensitive).\n",
    "5. Add together the size (length) of all names.\n",
    "6. Create the string \"Dear *name1*, *name2*, ..., *nameN*,\" with `fold`.\n",
    "7. How many people have \"an\" (case-insensitive, this requires an extra step!) in their name?\n",
    "8. How many names are 3 letters long?\n",
    "9. Do all names contain a capital letter? (use forall)\n",
    "10. Is there any name with the letter y or q in it? (use exists)\n",
    "11. Show all names with the letter y or q in them (result type is `string list`).\n",
    "12. Can you group the names by their size? (check [groupBy](https://fsharp.github.io/fsharp-core-docs/reference/fsharp-collections-listmodule.html#groupBy))\n",
    "13. Are there duplicate names in the list?"
   ]
  },
  {
   "cell_type": "code",
   "execution_count": 76,
   "metadata": {
    "dotnet_interactive": {
     "language": "fsharp"
    },
    "vscode": {
     "languageId": "polyglot-notebook"
    }
   },
   "outputs": [
    {
     "name": "stdout",
     "output_type": "stream",
     "text": [
      "1. [\"Dear Alfred\"; \"Dear Boris\"; \"Dear Ann\"; \"Dear Jan\"; \"Dear Anya\";\n",
      " \"Dear Monique\"; \"Dear Mo\"; \"Dear Christophe\"; \"Dear Jan\"; \"Dear Joris\";\n",
      " \"Dear Bert\"; \"Dear Olaf\"]\n",
      "Dear Alfred\n",
      "Dear Boris\n",
      "Dear Ann\n",
      "Dear Jan\n",
      "Dear Anya\n",
      "Dear Monique\n",
      "Dear Mo\n",
      "Dear Christophe\n",
      "Dear Jan\n",
      "Dear Joris\n",
      "Dear Bert\n",
      "Dear Olaf\n",
      "3. ['A'; 'l'; 'f'; 'r'; 'e'; 'd'; 'B'; 'o'; 'r'; 'i'; 's'; 'A'; 'n'; 'n'; 'J'; 'a';\n",
      " 'n'; 'A'; 'n'; 'y'; 'a'; 'M'; 'o'; 'n'; 'i'; 'q'; 'u'; 'e'; 'M'; 'o'; 'C'; 'h';\n",
      " 'r'; 'i'; 's'; 't'; 'o'; 'p'; 'h'; 'e'; 'J'; 'a'; 'n'; 'J'; 'o'; 'r'; 'i'; 's';\n",
      " 'B'; 'e'; 'r'; 't'; 'O'; 'l'; 'a'; 'f']\n",
      "4. ['A'; 'l'; 'f'; 'r'; 'e'; 'd'; 'B'; 'o'; 'i'; 's'; 'n'; 'J'; 'a'; 'y'; 'M'; 'q';\n",
      " 'u'; 'C'; 'h'; 't'; 'p'; 'O']\n",
      "5. 56\n",
      "6. \"Dear Alfred,Boris,Ann,Jan,Anya,Monique,Mo,Christophe,Jan,Joris,Bert,Olaf,\"\n",
      "7. 4\n",
      "8. 3\n",
      "9. true\n",
      "10. true\n",
      "11. [\"Anya\"; \"Monique\"]\n",
      "12. [(6, [\"Alfred\"]); (5, [\"Boris\"; \"Joris\"]); (3, [\"Ann\"; \"Jan\"; \"Jan\"]);\n",
      " (4, [\"Anya\"; \"Bert\"; \"Olaf\"]); (7, [\"Monique\"]); (2, [\"Mo\"]);\n",
      " (10, [\"Christophe\"])]\n",
      "13. true\n"
     ]
    }
   ],
   "source": [
    "let people = [\"Alfred\"; \"Boris\"; \"Ann\"; \"Jan\"; \"Anya\"; \"Monique\"; \"Mo\"; \"Christophe\"; \"Jan\"; \"Joris\"; \"Bert\"; \"Olaf\"]\n",
    "\n",
    "people |> List.map (fun x -> \"Dear \" + x) |> printfn \"1. %A\"\n",
    "\n",
    "let addDear = List.map (fun x -> \"Dear \" + x) \n",
    "people |> addDear |> List.iter (printfn \"%s\")\n",
    "\n",
    "people |> List.collect (fun name -> Seq.toList name) |> printfn \"3. %A\"\n",
    "\n",
    "people |> List.collect (fun name -> Seq.toList name) |> List.distinct |> printfn \"4. %A\"\n",
    "\n",
    "people |> List.map (fun name -> name.Length) |> List.sum |> printfn \"5. %A\"\n",
    "\n",
    "people |> List.map (fun x -> x + \",\") |> List.fold (+) \"Dear \" |> printfn \"6. %A\"\n",
    "\n",
    "people |> List.filter (fun x -> x.ToUpper().Contains(\"AN\")) |> List.length |> printfn \"7. %A\"\n",
    "\n",
    "people |> List.filter (fun x -> x.Length = 3) |> List.length |> printfn \"8. %A\"\n",
    "\n",
    "people |> List.forall (fun x -> x.ToLower() <> x) |> printfn \"9. %A\"\n",
    "\n",
    "people |> List.exists (fun x -> x.Contains('y') || x.Contains('q')) |> printfn \"10. %A\"\n",
    "\n",
    "people |> List.filter (fun x -> x.Contains('y') || x.Contains('q')) |> printfn \"11. %A\"\n",
    "\n",
    "people |> List.groupBy (fun x -> x.Length) |> printfn \"12. %A\"\n",
    "\n",
    "people |> List.distinct |> List.length <> people.Length |> printfn \"13. %A\"\n",
    "\n"
   ]
  },
  {
   "cell_type": "markdown",
   "metadata": {
    "dotnet_interactive": {
     "language": "csharp"
    },
    "polyglot_notebook": {
     "kernelName": "csharp"
    }
   },
   "source": [
    "### Exercise 2\n",
    "\n",
    "Write the following functions. Use recursion and pattern matching.\n",
    "\n",
    "1. `size`: `'a list -> int` gives the size of the list (generic!)\n",
    "2. `sum`: `int list -> int` gives the sum of all integers\n",
    "3. `max`: `int list -> int` gives the largest value in the list\n",
    "4. `replicate`: `string -> int -> string` replicates the string that number of times"
   ]
  },
  {
   "cell_type": "code",
   "execution_count": 105,
   "metadata": {
    "dotnet_interactive": {
     "language": "fsharp"
    },
    "vscode": {
     "languageId": "polyglot-notebook"
    }
   },
   "outputs": [
    {
     "name": "stdout",
     "output_type": "stream",
     "text": [
      "kkrkkrkkr\n"
     ]
    }
   ],
   "source": [
    "// for testing\n",
    "let nums = [1;2;3;4;5;]\n",
    "\n",
    "let rec size:'a list -> int = fun ls ->\n",
    "    match ls with\n",
    "    | [] -> 0\n",
    "    | head :: tail -> 1 + size tail\n",
    "    \n",
    "let rec sum: int list -> int = fun ls ->\n",
    "    match ls with\n",
    "    | [] -> 0\n",
    "    | head :: tail -> head + sum tail  \n",
    "    \n",
    "let rec max:int list -> int = fun ls ->\n",
    "    match ls with\n",
    "    | [] -> 0\n",
    "    | head :: [] -> head\n",
    "    | head1 :: head2 :: tail when head1 > head2 -> max (head1 :: tail)\n",
    "    | _ :: tail -> max tail\n",
    "\n",
    "let rec replicate:string -> int -> string = fun word x ->\n",
    "    match x with\n",
    "    | x when x > 0 -> word + replicate word (x - 1)\n",
    "    | _ -> \"\"\n",
    "\n",
    "let w = \"kkr\"\n",
    "printfn \"%s\" (replicate \"kkr\" 3)"
   ]
  },
  {
   "cell_type": "markdown",
   "metadata": {
    "dotnet_interactive": {
     "language": "csharp"
    },
    "polyglot_notebook": {
     "kernelName": "csharp"
    }
   },
   "source": [
    "### Exercise 3\n",
    "\n",
    "More recursive functions with pattern matching! These functions work like those in the lecture slides or in most languages, but you have to implement them yourself!\n",
    "\n",
    "1. `map`: `('a -> 'b) -> 'a list -> 'b list` maps a list of values to another list of values.\n",
    "2. `foreach`: `('a -> unit) -> 'a list -> unit` calls a function for each element in the list.\n",
    "3. `reduce`: `('a -> 'a -> 'a) -> 'a list -> 'a` reduces a list pairwise to one value\n",
    "4. `count`: `('a -> bool) -> 'a list -> int` count the number of times the function returns true when applied on each element.\n",
    "5. `forall`: `('a -> bool) -> 'a list -> bool` checks whether the function returns true for each element in the list.\n",
    "6. `exists`: `('a -> bool) -> 'a list -> bool` checks whether any of the elements in the list make the function return true.\n",
    "7. `filter`: `('a -> bool) -> 'a list -> 'a list` filters out any value for which the function returns false.\n",
    "8. `take`: `int -> 'a list -> 'a list` takes the first n values from the list.\n",
    "9. `drop`: `int -> 'a list -> 'a list` ignores the first n values from the list.\n",
    "10. `contains`: `'a -> 'a list -> bool` checks whether a value is in the list.\n",
    "11. `last`: `'a list -> 'a` returns the last element of the list.\n",
    "12. `reverse`: `'a list -> 'a list` reverses the list."
   ]
  },
  {
   "cell_type": "code",
   "execution_count": 5,
   "metadata": {
    "dotnet_interactive": {
     "language": "fsharp"
    },
    "vscode": {
     "languageId": "polyglot-notebook"
    }
   },
   "outputs": [
    {
     "name": "stderr",
     "output_type": "stream",
     "text": [
      "Stopped due to error\n"
     ]
    },
    {
     "ename": "Error",
     "evalue": "input.fsx (22,11)-(22,13) typecheck warning Incomplete pattern matches on this expression. For example, the value '[]' may indicate a case not covered by the pattern(s).\ninput.fsx (34,9)-(34,35) typecheck error Type mismatch. Expecting a\n    'int list -> obj'    \nbut given a\n    'bool list -> int'    \nThe type 'int' does not match the type 'bool'\ninput.fsx (34,9)-(34,35) typecheck error Type mismatch. Expecting a\n    'int list -> obj'    \nbut given a\n    'bool list -> int'    \nThe type 'int' does not match the type 'bool'",
     "output_type": "error",
     "traceback": [
      "input.fsx (22,11)-(22,13) typecheck warning Incomplete pattern matches on this expression. For example, the value '[]' may indicate a case not covered by the pattern(s).\n",
      "input.fsx (34,9)-(34,35) typecheck error Type mismatch. Expecting a\n",
      "    'int list -> obj'    \n",
      "but given a\n",
      "    'bool list -> int'    \n",
      "The type 'int' does not match the type 'bool'\n",
      "input.fsx (34,9)-(34,35) typecheck error Type mismatch. Expecting a\n",
      "    'int list -> obj'    \n",
      "but given a\n",
      "    'bool list -> int'    \n",
      "The type 'int' does not match the type 'bool'"
     ]
    }
   ],
   "source": [
    "// for testing\n",
    "let nums = [1;2;3;4;5]\n",
    "\n",
    "let rec map = fun f ls ->\n",
    "    match ls with\n",
    "    | [] -> [] \n",
    "    | head :: tail -> f head :: map f tail\n",
    "\n",
    "map (fun x -> x * 2) nums\n",
    "\n",
    "let rec foreach = fun ls f ->\n",
    "    match ls with\n",
    "    | [] -> ()\n",
    "    | head :: [] -> f head\n",
    "    | head :: tail -> \n",
    "        f head\n",
    "        foreach tail f\n",
    "\n",
    "foreach nums (fun x -> printfn $\"Nigga {x}\")\n",
    "\n",
    "let rec reduce = fun agg ls ->\n",
    "    match ls with\n",
    "    | head :: [] -> head\n",
    "    | first :: second :: tail -> reduce agg (agg first second :: tail)\n",
    "\n",
    "reduce (fun x y -> x + y) nums\n",
    "\n",
    "let rec count = fun f ls ->\n",
    "    match ls with\n",
    "    | [] -> 0\n",
    "    | head :: tail when head = true -> 1 + count f tail\n",
    "    | _ :: tail -> count f tail\n",
    "\n",
    "nums |> count (fun n -> n % 2 = 0)"
   ]
  },
  {
   "attachments": {},
   "cell_type": "markdown",
   "metadata": {
    "dotnet_interactive": {
     "language": "csharp"
    },
    "polyglot_notebook": {
     "kernelName": "csharp"
    }
   },
   "source": [
    "### Exercise 4\n",
    "\n",
    "Ok... two more recursive functions 😩\n",
    "\n",
    "1. `swap`: `('a, 'b) list -> ('b, 'a) list` swaps all tuples in a list around.\n",
    "2. `zip`: `'a list -> 'a list -> ('a, 'a) list` zips together two lists into a list of tuples."
   ]
  },
  {
   "cell_type": "code",
   "execution_count": null,
   "metadata": {
    "dotnet_interactive": {
     "language": "fsharp"
    },
    "vscode": {
     "languageId": "polyglot-notebook"
    }
   },
   "outputs": [],
   "source": []
  }
 ],
 "metadata": {
  "kernelspec": {
   "display_name": ".NET (C#)",
   "language": "C#",
   "name": ".net-csharp"
  },
  "polyglot_notebook": {
   "kernelInfo": {
    "defaultKernelName": "csharp",
    "items": [
     {
      "aliases": [
       "c#",
       "C#"
      ],
      "languageName": "C#",
      "name": "csharp"
     },
     {
      "aliases": [
       "js"
      ],
      "languageName": "JavaScript",
      "name": "javascript"
     },
     {
      "aliases": [
       "frontend"
      ],
      "name": "vscode"
     },
     {
      "aliases": [],
      "name": "webview"
     },
     {
      "aliases": [],
      "name": ".NET"
     },
     {
      "aliases": [
       "f#",
       "F#"
      ],
      "languageName": "F#",
      "name": "fsharp"
     },
     {
      "aliases": [],
      "languageName": "HTML",
      "name": "html"
     },
     {
      "aliases": [],
      "languageName": "KQL",
      "name": "kql"
     },
     {
      "aliases": [],
      "languageName": "Mermaid",
      "name": "mermaid"
     },
     {
      "aliases": [
       "powershell"
      ],
      "languageName": "PowerShell",
      "name": "pwsh"
     },
     {
      "aliases": [],
      "languageName": "SQL",
      "name": "sql"
     },
     {
      "aliases": [],
      "name": "value"
     }
    ]
   }
  }
 },
 "nbformat": 4,
 "nbformat_minor": 2
}
