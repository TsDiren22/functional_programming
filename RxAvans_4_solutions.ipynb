{
 "cells": [
  {
   "cell_type": "markdown",
   "metadata": {
    "dotnet_interactive": {
     "language": "fsharp"
    }
   },
   "source": [
    "# RxAvans lecture 4\n",
    "\n",
    "Ok, roll up your sleeves! Today we'll write the first real functionality of our library!\n",
    "\n",
    "We'll implement `log`, `tap`, `filter`, and `map` today.\n",
    "\n",
    "To do this we simply need to combine the concepts of the two previous RxAvans exercise sheets: we need to combine lazy evaluation and function decorators.\n",
    "The most difficult part is to understand the basic idea, so let me give you a simple example first."
   ]
  },
  {
   "cell_type": "code",
   "execution_count": null,
   "metadata": {
    "dotnet_interactive": {
     "language": "fsharp"
    }
   },
   "outputs": [
    {
     "name": "stdout",
     "output_type": "stream",
     "text": [
      "received: 3\r\n"
     ]
    }
   ],
   "source": [
    "let doNothing previous =\n",
    "    fun next ->\n",
    "        previous (fun data -> \n",
    "            next data\n",
    "        )\n",
    "\n",
    "let producer observer = observer 3\n",
    "let intermediate = doNothing producer\n",
    "\n",
    "intermediate (printfn \"received: %i\")"
   ]
  },
  {
   "cell_type": "markdown",
   "metadata": {},
   "source": [
    "What...?! \n",
    "\n",
    "Don't panic!\n",
    "\n",
    "Let's examine this example together. \n",
    "\n",
    "Remember we are trying to build a reactive pipeline like RxJS:\n",
    "\n",
    "```javascript\n",
    "// RxJS:\n",
    "from([1,2,3])\n",
    "    .pipe(\n",
    "        filter(val => val % 2 == 0),\n",
    "        map(val => 3 * val)\n",
    "    )\n",
    "    .subscribe(console.log)\n",
    "```\n",
    "\n",
    "You should be able to recognize the `producer` from the previous sheet about lazy evaluation. The producer only starts producing values when it gets called with the `observer`, so only when there is an actualy observer the reactive pipeline starts working.\n",
    "\n",
    "Then `doNothing` also looks a lot like a lazy evaluated function... because it is! However, `producer` is at the start of the reactive pipeline, while `doNothing` is a link in the middle. So comparing it to the RxJS example `producer` is `from([1,2,3])`, while `doNothing` would be a function in `pipe(...)`, like `filter` and `map` in the example. `subscribe(console.log)` in RxJS plays the same role as `intermediate (printfn \"received: %i\")` in our example.\n",
    "\n",
    "Let's try to understand how `doNothing` works. It gets called with the previous link in the chain (in this case the function `producer`). `doNothing` then returns a function that you can call with the next link in the chain (in this case the function `printfn \"received: %i\"`). When it gets called with the printfn it in turn calls the previous link in the chain (`producer`) with some lambda function (`fun data -> next data`). All this lambda function does is pass on the data it receives from the previous link to the next link in the chain. So we made a reactive pipeline that does nothing (hence the name `doNothing`!). \n",
    "\n",
    "Phew... that's a lot. Read that paragraph a couple of times and then let's make the pipeline do something useful!"
   ]
  },
  {
   "cell_type": "markdown",
   "metadata": {},
   "source": [
    "Okay, first goal is to implement `log`. This should be a step in the chain that simply prints out the value that it passes along the chain. \n",
    "\n",
    "This actually sounds very similar to `doNothing`... All we need to do extra is add a line with `printfn` somewhere in `doNothing`. I've copied the `doNothing` below, changed the name, and added one line. Now it's a logging link!"
   ]
  },
  {
   "cell_type": "code",
   "execution_count": null,
   "metadata": {
    "dotnet_interactive": {
     "language": "fsharp"
    }
   },
   "outputs": [
    {
     "name": "stdout",
     "output_type": "stream",
     "text": [
      "logging: 3\r\n",
      "received: 3\r\n"
     ]
    }
   ],
   "source": [
    "let log previous =\n",
    "    fun next ->\n",
    "        previous (fun data -> \n",
    "            printfn \"logging: %i\" data // this line was added\n",
    "            next data\n",
    "        )\n",
    "\n",
    "let producer observer = observer 3\n",
    "let intermediate = log producer\n",
    "\n",
    "intermediate (printfn \"received: %i\")"
   ]
  },
  {
   "cell_type": "markdown",
   "metadata": {},
   "source": [
    "Coooool! Now you try `tap`! \n",
    "\n",
    "`tap` is very similar to log, but you can give it a function that gets executed instead of a hardcoded `printfn`.\n",
    "\n",
    "I got you started with the declaration of `tap`:"
   ]
  },
  {
   "cell_type": "code",
   "execution_count": null,
   "metadata": {
    "dotnet_interactive": {
     "language": "fsharp"
    }
   },
   "outputs": [
    {
     "name": "stdout",
     "output_type": "stream",
     "text": [
      "logging through tap: 3\r\n",
      "received: 3\r\n"
     ]
    }
   ],
   "source": [
    "let tap func previous = \n",
    "    fun next ->\n",
    "        previous (fun data ->\n",
    "            func data\n",
    "            next data\n",
    "        )\n",
    "\n",
    "let producer observer = observer 3\n",
    "let print = printfn \"logging through tap: %i\"\n",
    "let intermediate = tap print producer\n",
    "\n",
    "intermediate (printfn \"received: %i\")"
   ]
  },
  {
   "cell_type": "markdown",
   "metadata": {},
   "source": [
    "Okay, nice! Now you're ready to write a link that actually changes the pipeline and not just lets a function eavesdrop (`tap` is called that because you tap in a function).\n",
    "\n",
    "Let's implement `map`. It takes a function and the previous links as argument, just like `tap`. But now the function maps values. The `map` should call the mapper function on a value before calling next with the mapped value. \n",
    "\n",
    "Try it!"
   ]
  },
  {
   "cell_type": "code",
   "execution_count": null,
   "metadata": {
    "dotnet_interactive": {
     "language": "fsharp"
    }
   },
   "outputs": [
    {
     "name": "stdout",
     "output_type": "stream",
     "text": [
      "received: 2\r\n",
      "received: 4\r\n",
      "received: 6\r\n"
     ]
    }
   ],
   "source": [
    "let map mapper previous =\n",
    "    fun next ->\n",
    "        previous (fun data ->\n",
    "            next (mapper data)\n",
    "        )\n",
    "\n",
    "let producer observer = \n",
    "    observer 1\n",
    "    observer 2\n",
    "    observer 3\n",
    "\n",
    "let intermediate = map (fun x -> 2*x) producer\n",
    "\n",
    "intermediate (printfn \"received: %i\")"
   ]
  },
  {
   "cell_type": "markdown",
   "metadata": {},
   "source": [
    "Okay, last step for today: `filter`!\n",
    "\n",
    "I think you already know what it should do. It also gets a function as first argument. If the function returns true the value should be passed to `next`, otherwise nothing should happen.\n",
    "\n",
    "Go for it!"
   ]
  },
  {
   "cell_type": "code",
   "execution_count": null,
   "metadata": {
    "dotnet_interactive": {
     "language": "fsharp"
    }
   },
   "outputs": [
    {
     "name": "stdout",
     "output_type": "stream",
     "text": [
      "received: 1\r\n",
      "received: 3\r\n"
     ]
    }
   ],
   "source": [
    "let filter predicate previous =\n",
    "    fun next -> \n",
    "        previous (fun data -> \n",
    "            if predicate data then next data\n",
    "        )\n",
    "\n",
    "let producer observer = \n",
    "    observer 1\n",
    "    observer 2\n",
    "    observer 3\n",
    "\n",
    "let intermediate = filter (fun x -> x % 2 = 1) producer\n",
    "\n",
    "intermediate (printfn \"received: %i\")"
   ]
  },
  {
   "cell_type": "markdown",
   "metadata": {},
   "source": [
    "Nice!\n",
    "\n",
    "We actually made a working tool!\n",
    "\n",
    "Let's put it all together. Write a pipeline below with the following steps:\n",
    "\n",
    "1. a map that doubles the number\n",
    "2. a tap that prints \"look at me being cool: \\<value\\>\" for each value that passes through the pipeline\n",
    "3. a filter that filters out all numbers that are divisible by 3\n",
    "\n",
    "Finally subscribe to it with `printfn \"received: %i\"`"
   ]
  },
  {
   "cell_type": "code",
   "execution_count": null,
   "metadata": {
    "dotnet_interactive": {
     "language": "fsharp"
    }
   },
   "outputs": [
    {
     "name": "stdout",
     "output_type": "stream",
     "text": [
      "look at me being cool: 2\r\n",
      "look at me being cool: 4\r\n",
      "look at me being cool: 6\r\n",
      "received: 6\r\n",
      "look at me being cool: 8\r\n",
      "look at me being cool: 10\r\n",
      "look at me being cool: 12\r\n",
      "received: 12\r\n",
      "look at me being cool: 14\r\n",
      "look at me being cool: 16\r\n",
      "look at me being cool: 18\r\n",
      "received: 18\r\n",
      "look at me being cool: 20\r\n"
     ]
    }
   ],
   "source": [
    "let producer observer = for i in 1..10 do observer i \n",
    "\n",
    "let doubled = map (fun x -> 2*x) producer\n",
    "let tapped = tap (printfn \"look at me being cool: %i\") doubled\n",
    "let filtered = filter (fun x -> x % 3 = 0) tapped\n",
    "\n",
    "filtered (printfn \"received: %i\")"
   ]
  },
  {
   "cell_type": "markdown",
   "metadata": {},
   "source": [
    "<span style=\"font-size:4em\">🤩</span>"
   ]
  }
 ],
 "metadata": {
  "kernelspec": {
   "display_name": ".NET (F#)",
   "language": "F#",
   "name": ".net-fsharp"
  },
  "language_info": {
   "name": "F#"
  }
 },
 "nbformat": 4,
 "nbformat_minor": 2
}
