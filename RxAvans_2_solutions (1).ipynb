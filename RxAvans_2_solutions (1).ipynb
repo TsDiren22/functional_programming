{
 "cells": [
  {
   "cell_type": "markdown",
   "metadata": {},
   "source": [
    "# RxAvans Lecture 2\n",
    "\n",
    "## First a refresher into RxJS\n",
    "\n",
    "On Brightspace you find a simple npm project with some instructions to build a small RxJS project. This is to refresh your RxJS skills.\n",
    "\n",
    "## The goal\n",
    "\n",
    "The goal of RxAvans is to have a small library that provides an observable and you can subscribe to that observable. It is a lazy evaluated library, meaning that nothing happens until someone is listening to the observable. Just like in the RxJS example. Also just like in the RxJS example we want to build a pipeline of functions like filter and map. Let's go!\n",
    "\n",
    "## Back to F#\n",
    "\n",
    "We start simple. The first step we'll take is to construct a function that decorates functions with extra behavior.\n",
    "\n",
    "Ok... so what does that sentence actually mean? Maybe the simplest example of a function decorator is a logger. \n",
    "\n",
    "What we want in this example is to log the argument of a function, without changing what the function does, and for any function.\n",
    "\n",
    "Below you find the silly function `unchanged`. It takes another function as argument and returns a function that simply calls the function you provided as argument. Examine this function `unchanged` and make sure you understand what is happening here before reading on."
   ]
  },
  {
   "cell_type": "code",
   "execution_count": null,
   "metadata": {
    "dotnet_interactive": {
     "language": "fsharp"
    }
   },
   "outputs": [
    {
     "name": "stdout",
     "output_type": "stream",
     "text": [
      "5\n",
      "5\n"
     ]
    }
   ],
   "source": [
    "let unchanged f = \n",
    "    fun x -> f x\n",
    "\n",
    "let inc x = x + 1\n",
    "let stillInc = unchanged inc\n",
    "\n",
    "printfn \"%i\" (inc 4)\n",
    "printfn \"%i\" (stillInc 4)"
   ]
  },
  {
   "cell_type": "markdown",
   "metadata": {},
   "source": [
    "Now let's see how we can change this silly function to make it do something useful:"
   ]
  },
  {
   "cell_type": "code",
   "execution_count": null,
   "metadata": {
    "dotnet_interactive": {
     "language": "fsharp"
    }
   },
   "outputs": [],
   "source": [
    "let unchanged f = \n",
    "    fun x -> \n",
    "        // we could execute some code here before calling the original function f\n",
    "        f x\n",
    "        // we could execute some code here after calling the original function f"
   ]
  },
  {
   "cell_type": "markdown",
   "metadata": {},
   "source": [
    "Try writing the logging decorator `logged`. This functions should take a function `f` and return a new function that first logs the argument, and then calls `f` with the argument. \n",
    "\n",
    "Hint: all you need is a printf in the correct location, look at the previous block of code for a hint."
   ]
  },
  {
   "cell_type": "code",
   "execution_count": null,
   "metadata": {
    "dotnet_interactive": {
     "language": "fsharp"
    }
   },
   "outputs": [
    {
     "name": "stdout",
     "output_type": "stream",
     "text": [
      "5\n",
      "logged argument: 4\n",
      "5\n"
     ]
    }
   ],
   "source": [
    "// this is the function unchanged, but now you make it do something useful!\n",
    "let logged f = \n",
    "    fun x -> \n",
    "        printfn \"logged argument: %O\" x\n",
    "        f x\n",
    "\n",
    "\n",
    "// this is to test\n",
    "let inc x = x + 1\n",
    "let incLogged = logged inc\n",
    "\n",
    "printfn \"%i\" (inc 4) // only prints \"5\"\n",
    "printfn \"%i\" (incLogged 4) // first prints \"logged argument: 4\", then prints \"5\" on a new line"
   ]
  },
  {
   "cell_type": "markdown",
   "metadata": {},
   "source": [
    "Great! You made your first function decorator. Note that the decorator itself is also a function, a function that takes and returns functions. Higher order functions!\n",
    "\n",
    "Now let's practice with writing function decorators.\n",
    "\n",
    "1. Write a function decorator `doubledArg` for functions that take integer arguments. It should multiply the argument by 2 before calling the original function.\n",
    "2. Write a function decorator `doubledResult` for functions that return integer values. It should multiply the value returned by the original function by 2.\n",
    "3. Write a function decorator `doubledArgResult` for functions with signature `int -> int`. It should first multiply the argument by 2, then call the original function `f`, then multiply the result by 2. However! Construct this function using function composition (hint: use the `>>` operator).\n"
   ]
  },
  {
   "cell_type": "code",
   "execution_count": null,
   "metadata": {
    "dotnet_interactive": {
     "language": "fsharp"
    }
   },
   "outputs": [
    {
     "name": "stdout",
     "output_type": "stream",
     "text": [
      "9\r\n",
      "10\r\n",
      "18\r\n"
     ]
    }
   ],
   "source": [
    "// write your solutions here\n",
    "let doubledArg f = \n",
    "    fun x -> \n",
    "        let x2 = 2 * x\n",
    "        f x2\n",
    "\n",
    "let doubledResult f = \n",
    "    fun x -> \n",
    "        let r = f x\n",
    "        2 * r\n",
    "\n",
    "let doubledArgResult = doubledArg >> doubledResult\n",
    "\n",
    "\n",
    "// this code is to test\n",
    "let inc x = x + 1\n",
    "\n",
    "let doubledBefore = doubledArg inc\n",
    "let doubledAfter = doubledResult inc\n",
    "let doubledBoth = doubledArgResult inc\n",
    "\n",
    "printfn \"%i\" (doubledBefore 4) // 9\n",
    "printfn \"%i\" (doubledAfter 4) // 10\n",
    "printfn \"%i\" (doubledBoth 4) // 18"
   ]
  },
  {
   "cell_type": "markdown",
   "metadata": {},
   "source": [
    "If you remember the `map` function from RxJs you might notice that the function decorator you just wrote has similar funcitonality. It changes the values before giving the new value to a function.\n",
    "\n",
    "A little more practice! Now let's try writing a function decorator that reminds us of `filter`. \n",
    "\n",
    "1. Write a function decorator `onlyEven` for functions that take integers as argument. This should only call the original function with even numbers, odd numbers should simply be ignored.\n",
    "2. Instead of hardcoding the criterion of which values should be passed on (even numbers in previous question) we could pass the criterion as another function. Write a function decorator `callIf` that takes a function `f` to be decorated and a criterion `predicate`. If the function `predicate` returns true for the integer, the function `f` gets called, otherwise it gets ignored."
   ]
  },
  {
   "cell_type": "code",
   "execution_count": null,
   "metadata": {
    "dotnet_interactive": {
     "language": "fsharp"
    }
   },
   "outputs": [
    {
     "name": "stdout",
     "output_type": "stream",
     "text": [
      "5\r\n",
      "7\r\n"
     ]
    }
   ],
   "source": [
    "// write your solutions here\n",
    "let onlyEven f = \n",
    "    fun x ->\n",
    "        if x % 2 = 0 then f x\n",
    "\n",
    "let callIf f predicate = \n",
    "    fun x -> \n",
    "        if predicate x then f x\n",
    "\n",
    "\n",
    "// this is to test\n",
    "let printInc x = printfn \"%i\" (x + 1)\n",
    "\n",
    "let printIncEven = onlyEven printInc\n",
    "\n",
    "let divByThree x = x % 3 = 0\n",
    "let printDivByThree = callIf printInc divByThree\n",
    "\n",
    "printIncEven 4 // prints 5\n",
    "printIncEven 7 // prints nothing\n",
    "\n",
    "printDivByThree 6 // prints 7\n",
    "printDivByThree 10 // prints nothing"
   ]
  },
  {
   "cell_type": "markdown",
   "metadata": {},
   "source": [
    "Well done! These are the first steps, we'll continue next lecture!"
   ]
  }
 ],
 "metadata": {
  "kernelspec": {
   "display_name": ".NET (F#)",
   "language": "F#",
   "name": ".net-fsharp"
  },
  "language_info": {
   "name": "F#"
  }
 },
 "nbformat": 4,
 "nbformat_minor": 2
}
