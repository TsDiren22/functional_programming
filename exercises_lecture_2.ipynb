{
 "cells": [
  {
   "cell_type": "markdown",
   "metadata": {
    "dotnet_interactive": {
     "language": "fsharp"
    }
   },
   "source": [
    "# Immutable data types, higher order functions, collections\n",
    "\n",
    "I hope you liked the first lecture where we really got started with FP! 🥰\n",
    "\n",
    "These exercises are meant to hit some key concepts of today's lecture, but it never hurts to practice some more. Also don't forget there is the case study exercise that runs throughout the course.\n",
    "\n",
    "Good luck!\n"
   ]
  },
  {
   "cell_type": "markdown",
   "metadata": {
    "dotnet_interactive": {
     "language": "csharp"
    },
    "polyglot_notebook": {
     "kernelName": "csharp"
    }
   },
   "source": [
    "### Exercise 1\n",
    "\n",
    "Write a function *swap* with signature *int \\* string -> string \\* int* that takes a tuple *int \\* string* and swaps them around using tuple deconstruction."
   ]
  },
  {
   "cell_type": "code",
   "execution_count": 7,
   "metadata": {
    "dotnet_interactive": {
     "language": "fsharp"
    },
    "vscode": {
     "languageId": "polyglot-notebook"
    }
   },
   "outputs": [
    {
     "data": {
      "text/html": [
       "<table><thead><tr><th>Item1</th><th>Item2</th></tr></thead><tbody><tr><td><div class=\"dni-plaintext\"><pre>hello</pre></div></td><td><div class=\"dni-plaintext\"><pre>1</pre></div></td></tr></tbody></table>"
      ]
     },
     "metadata": {},
     "output_type": "display_data"
    }
   ],
   "source": [
    "let swap = fun (x: int, y: string) -> (y, x)\n",
    "\n",
    "swap (1, \"hello\")\n"
   ]
  },
  {
   "cell_type": "markdown",
   "metadata": {
    "dotnet_interactive": {
     "language": "csharp"
    },
    "polyglot_notebook": {
     "kernelName": "csharp"
    }
   },
   "source": [
    "### Exercise 2\n",
    "\n",
    "1. Define a list with the [*num* .. *num*] syntax that contains the numbers 1 through 6.\n",
    "2. Define a list with the [*num*; *num*] syntax that contains the numbers 1 through 6.\n",
    "3. Define a list with the *num* :: *num* syntax that contains the numbers 1 through 6.\n",
    "4. Are these lists mutable or immutable?\n",
    "5. Use a property of the list to find out whether it's empty (don't forget there are docs!)\n",
    "6. Use a property of the list to get the element at index 4.\n",
    "7. Check [this table](https://docs.microsoft.com/en-us/dotnet/fsharp/language-reference/fsharp-collection-types#table-of-functions) in the docs, how do you think lists are implemented in F#?\n"
   ]
  },
  {
   "cell_type": "code",
   "execution_count": 8,
   "metadata": {
    "dotnet_interactive": {
     "language": "fsharp"
    },
    "vscode": {
     "languageId": "polyglot-notebook"
    }
   },
   "outputs": [
    {
     "data": {
      "text/plain": [
       "5) False\n",
       "6) 5"
      ]
     },
     "metadata": {},
     "output_type": "display_data"
    }
   ],
   "source": [
    "let lNumbers = [1 .. 6] //immutable\n",
    "let lNumbersPuntKomma = [1;2;3;4;5;6] //immutable\n",
    "let lNumbersDubbeleDubbelePunt = 1 :: [2 .. 6] //immutable\n",
    "\n",
    "lNumbers.Item 4\n",
    "lNumbers.IsEmpty\n",
    "\n",
    "$\"5) {lNumbers.IsEmpty}\\n6) {lNumbers.Item 4}\""
   ]
  },
  {
   "cell_type": "markdown",
   "metadata": {
    "dotnet_interactive": {
     "language": "csharp"
    },
    "polyglot_notebook": {
     "kernelName": "csharp"
    }
   },
   "source": [
    "### Exercise 3\n",
    "\n",
    "Write a function *doubleHead* with signature *int list -> int list* that takes a list, and returns that same list, but with the first element multiplied by two. Use list deconstruction."
   ]
  },
  {
   "cell_type": "code",
   "execution_count": 9,
   "metadata": {
    "dotnet_interactive": {
     "language": "fsharp"
    },
    "vscode": {
     "languageId": "polyglot-notebook"
    }
   },
   "outputs": [
    {
     "data": {
      "text/html": [
       "<table><thead><tr><th><i>index</i></th><th>value</th></tr></thead><tbody><tr><td>0</td><td><div class=\"dni-plaintext\"><pre>2</pre></div></td></tr><tr><td>1</td><td><div class=\"dni-plaintext\"><pre>2</pre></div></td></tr><tr><td>2</td><td><div class=\"dni-plaintext\"><pre>3</pre></div></td></tr><tr><td>3</td><td><div class=\"dni-plaintext\"><pre>4</pre></div></td></tr><tr><td>4</td><td><div class=\"dni-plaintext\"><pre>5</pre></div></td></tr><tr><td>5</td><td><div class=\"dni-plaintext\"><pre>6</pre></div></td></tr></tbody></table><style>\r\n",
       ".dni-code-hint {\r\n",
       "    font-style: italic;\r\n",
       "    overflow: hidden;\r\n",
       "    white-space: nowrap;\r\n",
       "}\r\n",
       ".dni-treeview {\r\n",
       "    white-space: nowrap;\r\n",
       "}\r\n",
       ".dni-treeview td {\r\n",
       "    vertical-align: top;\r\n",
       "    text-align: start;\r\n",
       "}\r\n",
       "details.dni-treeview {\r\n",
       "    padding-left: 1em;\r\n",
       "}\r\n",
       "table td {\r\n",
       "    text-align: start;\r\n",
       "}\r\n",
       "table tr { \r\n",
       "    vertical-align: top; \r\n",
       "    margin: 0em 0px;\r\n",
       "}\r\n",
       "table tr td pre \r\n",
       "{ \r\n",
       "    vertical-align: top !important; \r\n",
       "    margin: 0em 0px !important;\r\n",
       "} \r\n",
       "table th {\r\n",
       "    text-align: start;\r\n",
       "}\r\n",
       "</style>"
      ]
     },
     "metadata": {},
     "output_type": "display_data"
    }
   ],
   "source": [
    "let doubleHead list =\n",
    "    let head :: tail = list\n",
    "    head * 2 :: tail\n",
    "\n",
    "doubleHead [1 .. 6]"
   ]
  },
  {
   "cell_type": "markdown",
   "metadata": {
    "dotnet_interactive": {
     "language": "csharp"
    },
    "polyglot_notebook": {
     "kernelName": "csharp"
    }
   },
   "source": [
    "### Exercise 4\n",
    "\n",
    "1. Write a function *add* with signature *int -> int -> int* that returns a function which returns x + y.\n",
    "2. Use partial application to define the function *add2* that adds 2 to any integer."
   ]
  },
  {
   "cell_type": "code",
   "execution_count": 19,
   "metadata": {
    "dotnet_interactive": {
     "language": "fsharp"
    },
    "vscode": {
     "languageId": "polyglot-notebook"
    }
   },
   "outputs": [],
   "source": [
    "let add: int -> int -> int = fun x y -> x + y\n",
    "let add2 = fun x -> x+2\n",
    "\n"
   ]
  },
  {
   "cell_type": "markdown",
   "metadata": {
    "dotnet_interactive": {
     "language": "csharp"
    },
    "polyglot_notebook": {
     "kernelName": "csharp"
    }
   },
   "source": [
    "### Exercise 5\n",
    "\n",
    "1. Write a function *mul* with signature *int -> int -> int* that returns a function which returns x * y.\n",
    "2. Use partial application to define the function *mul5* that multiplies any integer by 5."
   ]
  },
  {
   "cell_type": "code",
   "execution_count": 11,
   "metadata": {
    "dotnet_interactive": {
     "language": "fsharp"
    },
    "vscode": {
     "languageId": "polyglot-notebook"
    }
   },
   "outputs": [],
   "source": [
    "let mul: int -> int -> int = fun x y -> x * y\n",
    "let mul5 = fun x -> x * 5 "
   ]
  },
  {
   "cell_type": "markdown",
   "metadata": {
    "dotnet_interactive": {
     "language": "csharp"
    },
    "polyglot_notebook": {
     "kernelName": "csharp"
    }
   },
   "source": [
    "### Exercise 6\n",
    "\n",
    "Use the functions *add2* and *mul5* you defined above (the notebook knows you defined them in the previous code block) to define a function that first adds 2 to its argument and then multiplies the result by 5. Use function composition!\n",
    "\n",
    "Ok... let's make a challenge out of this. 💪\n",
    "\n",
    "How many distinctive ways of defining this function can you think of? The answer sheet contains 4 different definitions."
   ]
  },
  {
   "cell_type": "code",
   "execution_count": 27,
   "metadata": {
    "dotnet_interactive": {
     "language": "fsharp"
    },
    "vscode": {
     "languageId": "polyglot-notebook"
    }
   },
   "outputs": [
    {
     "data": {
      "text/html": [
       "<div class=\"dni-plaintext\"><pre>60</pre></div><style>\r\n",
       ".dni-code-hint {\r\n",
       "    font-style: italic;\r\n",
       "    overflow: hidden;\r\n",
       "    white-space: nowrap;\r\n",
       "}\r\n",
       ".dni-treeview {\r\n",
       "    white-space: nowrap;\r\n",
       "}\r\n",
       ".dni-treeview td {\r\n",
       "    vertical-align: top;\r\n",
       "    text-align: start;\r\n",
       "}\r\n",
       "details.dni-treeview {\r\n",
       "    padding-left: 1em;\r\n",
       "}\r\n",
       "table td {\r\n",
       "    text-align: start;\r\n",
       "}\r\n",
       "table tr { \r\n",
       "    vertical-align: top; \r\n",
       "    margin: 0em 0px;\r\n",
       "}\r\n",
       "table tr td pre \r\n",
       "{ \r\n",
       "    vertical-align: top !important; \r\n",
       "    margin: 0em 0px !important;\r\n",
       "} \r\n",
       "table th {\r\n",
       "    text-align: start;\r\n",
       "}\r\n",
       "</style>"
      ]
     },
     "metadata": {},
     "output_type": "display_data"
    }
   ],
   "source": [
    "let add2Mul5 = fun x -> mul5 (add2 x)\n",
    "add2Mul5 10"
   ]
  },
  {
   "cell_type": "markdown",
   "metadata": {
    "dotnet_interactive": {
     "language": "csharp"
    },
    "polyglot_notebook": {
     "kernelName": "csharp"
    }
   },
   "source": [
    "### Exercise 7\n",
    "\n",
    "Let's create our first function that takes another function as argument! 😎\n",
    "\n",
    "1. Write a function *applyFunc* with signature *x:int -> y:int -> f:(int -> int -> int) -> int* which applies the function f to x and y.\n",
    "2. Use partial function application to define a funtion that applies the arguments 3 and 5 to any function it gets as argument."
   ]
  },
  {
   "cell_type": "code",
   "execution_count": 37,
   "metadata": {
    "dotnet_interactive": {
     "language": "fsharp"
    },
    "vscode": {
     "languageId": "polyglot-notebook"
    }
   },
   "outputs": [
    {
     "data": {
      "text/html": [
       "<div class=\"dni-plaintext\"><pre>FSI_0068+it@4-26</pre></div><style>\r\n",
       ".dni-code-hint {\r\n",
       "    font-style: italic;\r\n",
       "    overflow: hidden;\r\n",
       "    white-space: nowrap;\r\n",
       "}\r\n",
       ".dni-treeview {\r\n",
       "    white-space: nowrap;\r\n",
       "}\r\n",
       ".dni-treeview td {\r\n",
       "    vertical-align: top;\r\n",
       "    text-align: start;\r\n",
       "}\r\n",
       "details.dni-treeview {\r\n",
       "    padding-left: 1em;\r\n",
       "}\r\n",
       "table td {\r\n",
       "    text-align: start;\r\n",
       "}\r\n",
       "table tr { \r\n",
       "    vertical-align: top; \r\n",
       "    margin: 0em 0px;\r\n",
       "}\r\n",
       "table tr td pre \r\n",
       "{ \r\n",
       "    vertical-align: top !important; \r\n",
       "    margin: 0em 0px !important;\r\n",
       "} \r\n",
       "table th {\r\n",
       "    text-align: start;\r\n",
       "}\r\n",
       "</style>"
      ]
     },
     "metadata": {},
     "output_type": "display_data"
    }
   ],
   "source": [
    "let applyFunc: int -> int -> (int -> int -> int) -> int = fun x y f -> f x y\n",
    "let application = fun x -> x 3 5\n",
    "\n",
    "application applyFunc"
   ]
  },
  {
   "cell_type": "markdown",
   "metadata": {
    "dotnet_interactive": {
     "language": "csharp"
    },
    "polyglot_notebook": {
     "kernelName": "csharp"
    }
   },
   "source": [
    "### Exercise 8\n",
    "\n",
    "Write a generic function *sizeDescription* with signature *'T list -> string*, where *'T* is the generic type, that \n",
    "- returns \"short\" if the list contains less than 10 elements\n",
    "- else returns \"long\" if the list contains less than 100 elements\n",
    "- else returns \"very long\"\n"
   ]
  },
  {
   "cell_type": "code",
   "execution_count": 55,
   "metadata": {
    "dotnet_interactive": {
     "language": "fsharp"
    },
    "vscode": {
     "languageId": "polyglot-notebook"
    }
   },
   "outputs": [
    {
     "data": {
      "text/plain": [
       "9 elements: Short\n",
       "50 elements: Long\n",
       "100 elements: Very long"
      ]
     },
     "metadata": {},
     "output_type": "display_data"
    }
   ],
   "source": [
    "let sizeDescription<'T> (list: 'T list): string = \n",
    "    if list.Length < 10 then \"Short\"\n",
    "    else if list.Length < 100 then \"Long\"\n",
    "    else \"Very long\"\n",
    "\n",
    "$\"9 elements: {sizeDescription [1..9]}\\n50 elements: {sizeDescription [1..50]}\\n100 elements: {sizeDescription [1..100]}\""
   ]
  },
  {
   "cell_type": "markdown",
   "metadata": {
    "dotnet_interactive": {
     "language": "csharp"
    },
    "polyglot_notebook": {
     "kernelName": "csharp"
    }
   },
   "source": [
    "### Exercise 9\n",
    "\n",
    "We can represent a tree in a *Map*. The map has keys of type *string* and values of type *string*. When a key-value pair (\"node\", \"parent\") exists in the map it means the parent of \"node\" is \"parent\". The root node is its own parent (we'll need this later).\n",
    "\n",
    "1. Get the following tree in a map:\n",
    "```\n",
    "    root\n",
    "    /  \\\n",
    "   1    2\n",
    "  / \\  / \\\n",
    "11 12 21 22\n",
    "```\n",
    "2. Define a function *parent* that takes the tree (of type *Map\\<string, string\\>*) and a node (of type *string*) and returns the parent node.\n",
    "3. Define a function *insert* that places a new node in the tree. This function takes three arguments: the current tree, the parent, and the new node. It returns the new tree. However! The node should only be added if the parent currently exists in the tree, if the parent does not exist the function *insert* returns the original tree.\n",
    "4. Test your methods on the given tree (test both success and failure!)."
   ]
  },
  {
   "cell_type": "code",
   "execution_count": 76,
   "metadata": {
    "dotnet_interactive": {
     "language": "fsharp"
    },
    "vscode": {
     "languageId": "polyglot-notebook"
    }
   },
   "outputs": [
    {
     "data": {
      "text/html": [
       "<table><thead><tr><th><i>key</i></th><th>value</th></tr></thead><tbody><tr><td>1</td><td>root</td></tr><tr><td>11</td><td>1</td></tr><tr><td>12</td><td>1</td></tr><tr><td>2</td><td>root</td></tr><tr><td>21</td><td>2</td></tr><tr><td>22</td><td>2</td></tr><tr><td>root</td><td>root</td></tr></tbody></table><style>\r\n",
       ".dni-code-hint {\r\n",
       "    font-style: italic;\r\n",
       "    overflow: hidden;\r\n",
       "    white-space: nowrap;\r\n",
       "}\r\n",
       ".dni-treeview {\r\n",
       "    white-space: nowrap;\r\n",
       "}\r\n",
       ".dni-treeview td {\r\n",
       "    vertical-align: top;\r\n",
       "    text-align: start;\r\n",
       "}\r\n",
       "details.dni-treeview {\r\n",
       "    padding-left: 1em;\r\n",
       "}\r\n",
       "table td {\r\n",
       "    text-align: start;\r\n",
       "}\r\n",
       "table tr { \r\n",
       "    vertical-align: top; \r\n",
       "    margin: 0em 0px;\r\n",
       "}\r\n",
       "table tr td pre \r\n",
       "{ \r\n",
       "    vertical-align: top !important; \r\n",
       "    margin: 0em 0px !important;\r\n",
       "} \r\n",
       "table th {\r\n",
       "    text-align: start;\r\n",
       "}\r\n",
       "</style>"
      ]
     },
     "metadata": {},
     "output_type": "display_data"
    }
   ],
   "source": [
    "let tree = Map.empty.Add(\"root\", \"root\").Add(\"1\", \"root\").Add(\"2\", \"root\").Add(\"11\", \"1\").Add(\"12\", \"1\").Add(\"21\", \"2\").Add(\"22\", \"2\")\n",
    "\n",
    "let parent = fun (tree: Map<string, string>) (node:string) ->tree.Item(node)\n",
    "let insert = fun (currentTree:Map<string, string>) (parent:string) (newNode:string) -> \n",
    "    if tree.ContainsKey(parent) then currentTree.Add(newNode, parent)\n",
    "    else tree\n",
    "\n",
    "let success = insert tree \"1\" \"13\"\n",
    "let failure = insert tree \"3\" \"36\"\n",
    "\n",
    "failure"
   ]
  },
  {
   "cell_type": "code",
   "execution_count": 77,
   "metadata": {
    "dotnet_interactive": {
     "language": "fsharp"
    },
    "polyglot_notebook": {
     "kernelName": "fsharp"
    },
    "vscode": {
     "languageId": "polyglot-notebook"
    }
   },
   "outputs": [
    {
     "data": {
      "text/html": [
       "<table><thead><tr><th><i>key</i></th><th>value</th></tr></thead><tbody><tr><td>1</td><td>root</td></tr><tr><td>11</td><td>1</td></tr><tr><td>12</td><td>1</td></tr><tr><td>13</td><td>1</td></tr><tr><td>2</td><td>root</td></tr><tr><td>21</td><td>2</td></tr><tr><td>22</td><td>2</td></tr><tr><td>root</td><td>root</td></tr></tbody></table><style>\r\n",
       ".dni-code-hint {\r\n",
       "    font-style: italic;\r\n",
       "    overflow: hidden;\r\n",
       "    white-space: nowrap;\r\n",
       "}\r\n",
       ".dni-treeview {\r\n",
       "    white-space: nowrap;\r\n",
       "}\r\n",
       ".dni-treeview td {\r\n",
       "    vertical-align: top;\r\n",
       "    text-align: start;\r\n",
       "}\r\n",
       "details.dni-treeview {\r\n",
       "    padding-left: 1em;\r\n",
       "}\r\n",
       "table td {\r\n",
       "    text-align: start;\r\n",
       "}\r\n",
       "table tr { \r\n",
       "    vertical-align: top; \r\n",
       "    margin: 0em 0px;\r\n",
       "}\r\n",
       "table tr td pre \r\n",
       "{ \r\n",
       "    vertical-align: top !important; \r\n",
       "    margin: 0em 0px !important;\r\n",
       "} \r\n",
       "table th {\r\n",
       "    text-align: start;\r\n",
       "}\r\n",
       "</style>"
      ]
     },
     "metadata": {},
     "output_type": "display_data"
    }
   ],
   "source": [
    "success"
   ]
  },
  {
   "cell_type": "markdown",
   "metadata": {
    "dotnet_interactive": {
     "language": "csharp"
    },
    "polyglot_notebook": {
     "kernelName": "csharp"
    }
   },
   "source": [
    "### Exercise 10\n",
    "\n",
    "In a previous exercise you defined a function that takes another function as argument. Now let's define a function that returns a function. \n",
    "\n",
    "I want to play a guessing game and you need to write the code for it! You think of a number and I will shout numbers at you until I guess your number.\n",
    "\n",
    "Define a function *lucky* that takes an integer, the answer of the game, and returns a function. The function it returns takes an integer, my guess, and checks whether it's the correct number. If it is it returns the string \"Lucky number!\" if it's not the correct number it returns \"Sorry, try again...\".\n",
    "\n",
    "Try playing the game!"
   ]
  },
  {
   "cell_type": "code",
   "execution_count": 88,
   "metadata": {
    "dotnet_interactive": {
     "language": "fsharp"
    },
    "vscode": {
     "languageId": "polyglot-notebook"
    }
   },
   "outputs": [
    {
     "data": {
      "text/plain": [
       "Ding ding ding motherfuckers"
      ]
     },
     "metadata": {},
     "output_type": "display_data"
    }
   ],
   "source": [
    "let lucky = fun (answer:int) -> \n",
    "    fun (guess:int) -> \n",
    "        if answer=guess then \"Ding ding ding motherfuckers\"\n",
    "        else \"Skill issue\"\n",
    "\n",
    "let play = lucky 777\n",
    "\n",
    "play 777"
   ]
  },
  {
   "attachments": {},
   "cell_type": "markdown",
   "metadata": {
    "dotnet_interactive": {
     "language": "fsharp"
    },
    "polyglot_notebook": {
     "kernelName": "fsharp"
    }
   },
   "source": [
    "### Exercise 11\n",
    "\n",
    "Write a function that computes the total amount on the bill at a bar. The function takes a list and a discount strategy. The list contains tuples with the number of drinks, and the price per drink. For example: two beers and three coke result in the following list: [(2, 3.0); (3, 2.5)]. The total price without discount would be 2\\*3.0 + 3\\*2.5 = 13.5. The third parameter to the function is a discount strategy, which is of type int -> float -> float. This function returns the price including discount for one kind of drink. For example given the 2 beers of 3.0 each it returns 6.0 for the full price. Implement the following discount strategies:\n",
    "- Full price\n",
    "- 10% discount\n",
    "- Happy hour: every second drink of the same kind is for free\n",
    "\n",
    "(You can use one mutable variable here to compute the sum, or if you want to practice with lecture 3 already, try doing it with only immutable variables and recursion)\n"
   ]
  },
  {
   "cell_type": "code",
   "execution_count": 8,
   "metadata": {
    "dotnet_interactive": {
     "language": "fsharp"
    },
    "polyglot_notebook": {
     "kernelName": "fsharp"
    },
    "vscode": {
     "languageId": "polyglot-notebook"
    }
   },
   "outputs": [
    {
     "data": {
      "text/html": [
       "<div class=\"dni-plaintext\"><pre>23.5</pre></div><style>\r\n",
       ".dni-code-hint {\r\n",
       "    font-style: italic;\r\n",
       "    overflow: hidden;\r\n",
       "    white-space: nowrap;\r\n",
       "}\r\n",
       ".dni-treeview {\r\n",
       "    white-space: nowrap;\r\n",
       "}\r\n",
       ".dni-treeview td {\r\n",
       "    vertical-align: top;\r\n",
       "    text-align: start;\r\n",
       "}\r\n",
       "details.dni-treeview {\r\n",
       "    padding-left: 1em;\r\n",
       "}\r\n",
       "table td {\r\n",
       "    text-align: start;\r\n",
       "}\r\n",
       "table tr { \r\n",
       "    vertical-align: top; \r\n",
       "    margin: 0em 0px;\r\n",
       "}\r\n",
       "table tr td pre \r\n",
       "{ \r\n",
       "    vertical-align: top !important; \r\n",
       "    margin: 0em 0px !important;\r\n",
       "} \r\n",
       "table th {\r\n",
       "    text-align: start;\r\n",
       "}\r\n",
       "</style>"
      ]
     },
     "metadata": {},
     "output_type": "display_data"
    }
   ],
   "source": [
    "let compute (list: List<int*float>) (discountStrategy) =\n",
    "    let mutable totalPrice = 0.0\n",
    "    for (amount, price) in list do\n",
    "        totalPrice <- totalPrice + discountStrategy amount price\n",
    "    totalPrice\n",
    "\n",
    "let kaart = [(1, 2.3); (3, 3.5); (2, 5.35)]\n",
    "\n",
    "let fullPrice (amount: int) (price: float) = float amount * price\n",
    "\n",
    "compute kaart fullPrice"
   ]
  },
  {
   "attachments": {},
   "cell_type": "markdown",
   "metadata": {
    "dotnet_interactive": {
     "language": "csharp"
    },
    "polyglot_notebook": {
     "kernelName": "csharp"
    }
   },
   "source": [
    "### Exercise 12\n",
    "\n",
    "Okay, let's do some function composition gymnastics!\n",
    "\n",
    "Write the following functions using function composition on the three functions `inc`, `dec`, and `double`.\n",
    "\n",
    "1. A function that increments twice\n",
    "2. A function that first doubles, then increments\n",
    "3. A function that first increments, then doubles\n",
    "4. The same function as 3., but now using `<<`, instead of `>>`\n",
    "5. A function that increments, doubles, then decrements"
   ]
  },
  {
   "cell_type": "code",
   "execution_count": 26,
   "metadata": {
    "dotnet_interactive": {
     "language": "fsharp"
    },
    "vscode": {
     "languageId": "polyglot-notebook"
    }
   },
   "outputs": [
    {
     "data": {
      "text/plain": [
       "Everything for value: 5\n",
       "1) A function that increments twice: 7\n",
       "2) A function that first doubles, then increments: 11\n",
       "3) A function that first increments, then doubles: 12\n",
       "4) The same function as 3., but now using `<<`, instead of `>>`: 11\n",
       "5) A function that increments, doubles, then decrements: 11"
      ]
     },
     "metadata": {},
     "output_type": "display_data"
    }
   ],
   "source": [
    "let inc x = x + 1\n",
    "let dec x = x - 1\n",
    "let double x = 2 * x\n",
    "\n",
    "let incTwice = inc >> inc\n",
    "let doubleThenInc = double >> inc\n",
    "let incThenDouble = inc >> double\n",
    "let doubleThenIncWithExtraSteps = inc << double\n",
    "let incrementThenDoubleThenDecrement = inc >> double >> dec\n",
    "\n",
    "\n",
    "$\"Everything for value: 5\\n1) A function that increments twice: {incTwice 5}\\n2) A function that first doubles, then increments: {doubleThenInc 5}\\n3) A function that first increments, then doubles: {incThenDouble 5}\\n4) The same function as 3., but now using `<<`, instead of `>>`: {doubleThenIncWithExtraSteps 5}\\n5) A function that increments, doubles, then decrements: {incrementThenDoubleThenDecrement 5}\""
   ]
  },
  {
   "cell_type": "markdown",
   "metadata": {
    "dotnet_interactive": {
     "language": "csharp"
    },
    "polyglot_notebook": {
     "kernelName": "csharp"
    }
   },
   "source": [
    "Cool! You did it! 🤩\n",
    "\n",
    "You can get started on the case study exercise now!"
   ]
  }
 ],
 "metadata": {
  "kernelspec": {
   "display_name": ".NET (C#)",
   "language": "C#",
   "name": ".net-csharp"
  },
  "polyglot_notebook": {
   "kernelInfo": {
    "defaultKernelName": "csharp",
    "items": [
     {
      "aliases": [
       "c#",
       "C#"
      ],
      "languageName": "C#",
      "name": "csharp"
     },
     {
      "aliases": [],
      "name": ".NET"
     },
     {
      "aliases": [
       "f#",
       "F#"
      ],
      "languageName": "F#",
      "name": "fsharp"
     },
     {
      "aliases": [],
      "languageName": "HTML",
      "name": "html"
     },
     {
      "aliases": [
       "js"
      ],
      "languageName": "JavaScript",
      "name": "javascript"
     },
     {
      "aliases": [],
      "languageName": "KQL",
      "name": "kql"
     },
     {
      "aliases": [],
      "languageName": "Mermaid",
      "name": "mermaid"
     },
     {
      "aliases": [
       "powershell"
      ],
      "languageName": "PowerShell",
      "name": "pwsh"
     },
     {
      "aliases": [],
      "languageName": "SQL",
      "name": "sql"
     },
     {
      "aliases": [],
      "name": "value"
     },
     {
      "aliases": [
       "frontend"
      ],
      "name": "vscode"
     },
     {
      "aliases": [],
      "name": "webview"
     }
    ]
   }
  }
 },
 "nbformat": 4,
 "nbformat_minor": 2
}
