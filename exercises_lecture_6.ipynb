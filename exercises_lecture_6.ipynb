{
 "cells": [
  {
   "cell_type": "markdown",
   "metadata": {
    "dotnet_interactive": {
     "language": "fsharp"
    }
   },
   "source": [
    "# Partial application and monoids\n",
    "\n",
    "Let's get those cool concepts to work!"
   ]
  },
  {
   "cell_type": "markdown",
   "metadata": {},
   "source": [
    "### Exercise 1\n",
    "\n",
    "Okay, this exercise sounds silly... but I promise it isn't!\n",
    "\n",
    "Look back at all previous exercises and see where you used partial function application. Maybe you can even make some of your solutions prettier."
   ]
  },
  {
   "cell_type": "markdown",
   "metadata": {},
   "source": [
    "### Exercise 2\n",
    "\n",
    "You are going to make your own monoid in this exercise!\n",
    "\n",
    "The lottery wants your help. Their system makes use of [event sourcing](https://martinfowler.com/eaaDev/EventSourcing.html) (more on that next period in Solution Architecture!). For now that means that they do not store a current amount in the prize pot, or a current profit, they only store events in a database. The state of the system needs to be computed by looping over all events. Events happen when a ticket is bought and when a winner is drawn.\n",
    "\n",
    "Feel it coming...? We want those events to be a monoid! Then we can simply use the F# `List.sum` to get the current state of the lottery.\n",
    "\n",
    "Let's get started!\n",
    "\n",
    "These are the rules of the lottery:\n",
    "- A ticket costs €10, of which €7 goes into the prize pot and €3 is profit for the lottery.\n",
    "- The buyer of the ticket gets to choose a 3 digit code on the ticket.\n",
    "- The ticket wins when the 3 digit code is drawn at the end of the month.\n",
    "- When a draw happened and there is a winner the prize pot is empty, but the profits are unchanged.\n",
    "- When a draw happened and there is no winner the prize pot remains filled.\n",
    "- After a draw all tickets become invalid and you have to buy a code again to win with it.\n",
    "\n",
    "These steps should help you implement the monoid structure for the events:\n",
    "\n",
    "1. Declare a type `Event` and give the enum (discriminated union) three values. \n",
    "    - A `Ticket` with a string in it for the code on the ticket.\n",
    "    - A `Draw` with a string in it for the winning code.\n",
    "    - A `Pot` with a tuple of an `int`, `int`, and `Set<string` in it. The first int is the prize, the second the profit\n",
    "    . The set contains all competing ticket codes.\n",
    "2. Write a function `addEvents` that adds together any two events according to the business rules above. (Also take a look at the test code below.)\n",
    "3. Give the `Event` a `+` method and a `Zero` element.\n",
    "4. Test your implementation with the code below."
   ]
  },
  {
   "cell_type": "code",
   "execution_count": null,
   "metadata": {
    "dotnet_interactive": {
     "language": "fsharp"
    }
   },
   "outputs": [
    {
     "name": "stdout",
     "output_type": "stream",
     "text": [
      "Pot (21, 9, set [\"123\"; \"251\"; \"423\"])\r\n",
      "Pot (21, 9, set [])\r\n",
      "Pot (0, 12, set [])\r\n"
     ]
    }
   ],
   "source": [
    "\n",
    "\n",
    "// use this to test:\n",
    "let eventsA = [Ticket \"123\"; Ticket \"251\"; Ticket \"423\"]\n",
    "let eventsB = [Ticket \"123\"; Ticket \"251\"; Ticket \"423\"; Draw \"765\"]\n",
    "let eventsC = [Ticket \"123\"; Ticket \"251\"; Ticket \"423\"; Draw \"765\"; Ticket \"933\"; Draw \"933\"]\n",
    "\n",
    "printfn \"%A\" (List.sum eventsA) // Pot (21, 9, set [\"123\"; \"251\"; \"423\"])\n",
    "printfn \"%A\" (List.sum eventsB) // Pot (21, 9, set [])\n",
    "printfn \"%A\" (List.sum eventsC) // Pot (0, 12, set [])\n"
   ]
  }
 ],
 "metadata": {
  "kernelspec": {
   "display_name": ".NET (F#)",
   "language": "F#",
   "name": ".net-fsharp"
  },
  "language_info": {
   "name": "F#"
  }
 },
 "nbformat": 4,
 "nbformat_minor": 2
}
