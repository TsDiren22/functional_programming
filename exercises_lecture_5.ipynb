{
 "cells": [
  {
   "cell_type": "markdown",
   "metadata": {},
   "source": [
    "# Closures\n",
    "\n",
    "Open up your mind to closures! 🤭"
   ]
  },
  {
   "cell_type": "markdown",
   "metadata": {},
   "source": [
    "### Exercise 1\n",
    "\n",
    "For each of these functions determine if there is a closure. If there is a closure, which function is the closure and what variable does it enclose?"
   ]
  },
  {
   "cell_type": "code",
   "execution_count": null,
   "metadata": {
    "dotnet_interactive": {
     "language": "fsharp"
    }
   },
   "outputs": [],
   "source": [
    "// 1.\n",
    "let add x =\n",
    "    fun y -> x + y\n",
    "\n",
    "// 2.\n",
    "let applyFunc x y =\n",
    "    fun func -> func x y\n",
    "\n",
    "// 3.\n",
    "let lucky secret =\n",
    "    let play guess =\n",
    "        if secret = guess then \"you won!\"\n",
    "        else \"try again...\"\n",
    "\n",
    "    play\n",
    "\n",
    "// 4.\n",
    "let names = [\"Alfred\"; \"Boris\"; \"Mo\"]\n",
    "\n",
    "let greeting = List.fold (fun a b -> a + b + \", \") \"Dear \" names\n",
    "\n",
    "// 5.\n",
    "let rec sumTail result ls =\n",
    "    match (ls, result) with\n",
    "        | ([], result) -> result\n",
    "        | (head :: tail, None) -> sumTail (Some head) tail\n",
    "        | (head :: tail, Some total) -> sumTail (Some (head+total)) tail\n",
    "\n",
    "let sum = sumTail None"
   ]
  },
  {
   "cell_type": "markdown",
   "metadata": {},
   "source": [
    "### Exercise 2\n",
    "\n",
    "Write a function `makeLogger` that returns a closure. The closure prints the message on the screen with the sequence number in front of it.\n",
    "You can use a mutable variable."
   ]
  },
  {
   "cell_type": "code",
   "execution_count": null,
   "metadata": {
    "dotnet_interactive": {
     "language": "fsharp"
    }
   },
   "outputs": [
    {
     "name": "stdout",
     "output_type": "stream",
     "text": [
      "1: First message\r\n",
      "2: Second message\r\n",
      "3: Third message\r\n"
     ]
    }
   ],
   "source": [
    "\n",
    "\n",
    "// make this work:\n",
    "let log = makeLogger ()\n",
    "\n",
    "log(\"First message\")  // 1: First message\n",
    "log(\"Second message\") // 2: Second message\n",
    "log(\"Third message\")  // 3: Third message"
   ]
  },
  {
   "cell_type": "markdown",
   "metadata": {},
   "source": [
    "### Exercise 3\n",
    "\n",
    "We'll expand the counter example from the lecture. We want to not only increment the counter, but also decrement. Write a function `makeCounter` that returns two closures, one for incrementing and one for decrementing. You can use a mutable variable."
   ]
  },
  {
   "cell_type": "code",
   "execution_count": null,
   "metadata": {
    "dotnet_interactive": {
     "language": "fsharp"
    }
   },
   "outputs": [
    {
     "name": "stdout",
     "output_type": "stream",
     "text": [
      "1\r\n",
      "2\r\n",
      "1\r\n",
      "2\r\n",
      "1\r\n",
      "0\r\n"
     ]
    }
   ],
   "source": [
    "\n",
    "\n",
    "// make this work:\n",
    "let (inc, dec) = makeCounter ()\n",
    "\n",
    "printfn \"%i\" (inc ()) // 1\n",
    "printfn \"%i\" (inc ()) // 2\n",
    "printfn \"%i\" (dec ()) // 1\n",
    "printfn \"%i\" (inc ()) // 2\n",
    "printfn \"%i\" (dec ()) // 1\n",
    "printfn \"%i\" (dec ()) // 0"
   ]
  },
  {
   "cell_type": "markdown",
   "metadata": {},
   "source": [
    "### Exercise 4\n",
    "\n",
    "Write a function `makeMemory` that remembers the previous argument. You can use a mutable variable."
   ]
  },
  {
   "cell_type": "code",
   "execution_count": null,
   "metadata": {
    "dotnet_interactive": {
     "language": "fsharp"
    }
   },
   "outputs": [
    {
     "name": "stdout",
     "output_type": "stream",
     "text": [
      "\r\n",
      "Hello\r\n",
      "World\r\n"
     ]
    }
   ],
   "source": [
    "\n",
    "\n",
    "// make this work:\n",
    "let remember = makeMemory ()\n",
    "\n",
    "printfn \"%s\" (remember \"Hello\") // returns \"\"\n",
    "printfn \"%s\" (remember \"World\") // returns \"Hello\"\n",
    "printfn \"%s\" (remember \"\")      // returns \"World\""
   ]
  },
  {
   "cell_type": "markdown",
   "metadata": {},
   "source": [
    "### Exercise 5\n",
    "\n",
    "Write a function `range` that returns the next step in the range each time it's called. You can use a mutable variable."
   ]
  },
  {
   "cell_type": "code",
   "execution_count": null,
   "metadata": {
    "dotnet_interactive": {
     "language": "fsharp"
    }
   },
   "outputs": [
    {
     "name": "stdout",
     "output_type": "stream",
     "text": [
      "Some(10)\r\n",
      "Some(13)\r\n",
      "Some(16)\r\n",
      "Some(19)\r\n",
      "<null>\r\n",
      "<null>\r\n"
     ]
    }
   ],
   "source": [
    "\n",
    "\n",
    "// make this work:\n",
    "let myRange = range 10 20 3\n",
    "\n",
    "printfn \"%O\" (myRange ()) // Some 10\n",
    "printfn \"%O\" (myRange ()) // Some 13\n",
    "printfn \"%O\" (myRange ()) // Some 16\n",
    "printfn \"%O\" (myRange ()) // Some 19\n",
    "printfn \"%O\" (myRange ()) // None\n",
    "printfn \"%O\" (myRange ()) // None\n"
   ]
  }
 ],
 "metadata": {
  "kernelspec": {
   "display_name": ".NET (F#)",
   "language": "F#",
   "name": ".net-fsharp"
  },
  "language_info": {
   "name": "F#"
  }
 },
 "nbformat": 4,
 "nbformat_minor": 2
}
