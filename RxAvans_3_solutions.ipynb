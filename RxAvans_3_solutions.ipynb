{
 "cells": [
  {
   "cell_type": "markdown",
   "metadata": {
    "dotnet_interactive": {
     "language": "fsharp"
    }
   },
   "source": [
    "# RxAvans lecture 3\n",
    "\n",
    "In this exercise sheet you'll explore how to implement a simple form of lazy evaluation. \n",
    "\n",
    "Remember, lazy evaluation means that we can set up how calculations will be done once they are needed. However, as long as no one requires them no calculations will be performed! This idea fits neatly in the paradigm of Reactive Programming.\n",
    "\n",
    "Ok, let's start. \n",
    "\n",
    "First let's examine why in programming languages code is always being executed as soon as it's written. Here you see a small example of a calculation being done right away, even though nothing is done with the result."
   ]
  },
  {
   "cell_type": "code",
   "execution_count": null,
   "metadata": {
    "dotnet_interactive": {
     "language": "fsharp"
    }
   },
   "outputs": [
    {
     "name": "stdout",
     "output_type": "stream",
     "text": [
      "calculation is done, but you don't see output!\r\n"
     ]
    }
   ],
   "source": [
    "let calc x = x * x + 1\n",
    "\n",
    "let y = calc 5\n",
    "\n",
    "printfn \"calculation is done, but you don't see output!\""
   ]
  },
  {
   "cell_type": "markdown",
   "metadata": {},
   "source": [
    "We could use the already computed value now of course:"
   ]
  },
  {
   "cell_type": "code",
   "execution_count": null,
   "metadata": {
    "dotnet_interactive": {
     "language": "fsharp"
    }
   },
   "outputs": [
    {
     "name": "stdout",
     "output_type": "stream",
     "text": [
      "26\r\n"
     ]
    }
   ],
   "source": [
    "printfn \"%i\" y"
   ]
  },
  {
   "cell_type": "markdown",
   "metadata": {},
   "source": [
    "The problem is that the producer of the data (the line `let y = calc 5`) is not aware of whether the result is going to be useful or not. \n",
    "\n",
    "Let's try to fix that. \n",
    "\n",
    "We need something that looks like the [observer pattern](https://refactoring.guru/design-patterns/observer). Let's write a simple example of this.\n",
    "\n",
    "1. Write a function `printer` of type `int -> unit` that receives an integer and prints \"received: \" and the integer on the console.\n",
    "2. Write a function `producer` of type `(int -> unit) -> unit` that receives a function of type `int -> unit` whose name is `observer` and calls this observer function with the value `3`.\n",
    "3. Run your code. Good! Nothing should happen, since the value `3` that is produced by the producer is not being used.\n",
    "4. Now call the `producer` with `printer` as argument.\n",
    "5. Confirm that now it prints \"received: 3\". Only now did the code do some work!\n",
    "\n",
    "Here is some code to get you started:"
   ]
  },
  {
   "cell_type": "code",
   "execution_count": null,
   "metadata": {
    "dotnet_interactive": {
     "language": "fsharp"
    }
   },
   "outputs": [
    {
     "name": "stdout",
     "output_type": "stream",
     "text": [
      "received: 3\r\n"
     ]
    }
   ],
   "source": [
    "let printer = printfn \"received: %i\"\n",
    "\n",
    "let producer (observer: int -> unit) = observer 3\n",
    "\n",
    "producer printer"
   ]
  },
  {
   "cell_type": "markdown",
   "metadata": {},
   "source": [
    "Let's try to expand a bit on this. Now that we have a producer that calls the observer whenever it has a value ready to be processed we could also produce multiple values.\n",
    "\n",
    "Write a new producer called `produceMany` that produces the values 3, 6, and 10 and try calling it with `printer`.\n",
    "\n",
    "Here is some code to get you started:"
   ]
  },
  {
   "cell_type": "code",
   "execution_count": null,
   "metadata": {
    "dotnet_interactive": {
     "language": "fsharp"
    }
   },
   "outputs": [
    {
     "name": "stdout",
     "output_type": "stream",
     "text": [
      "received: 3\r\n",
      "received: 6\r\n",
      "received: 10\r\n"
     ]
    }
   ],
   "source": [
    "let produceMany observer =\n",
    "    observer 3\n",
    "    observer 6\n",
    "    observer 10\n",
    "\n",
    "produceMany printer"
   ]
  },
  {
   "cell_type": "markdown",
   "metadata": {},
   "source": [
    "Cooool! We made a stream of data! \n",
    "\n",
    "Calling the function `produceMany` is like subscribing to an observable. That is why you need to pass the observer function as an argument!\n",
    "\n",
    "Remember that RxJS observables are a kind of stream and each time a value is emitted all its subscribers are notified. \n",
    "Here each time the `poduceMany` function calls the observer with a new value it is like emitting a new value! \n",
    "\n",
    "What we won't do with RxAvans, but what is possible in RxJS is that these values are being emitted asynchronously. This happens for example when listening to a stream of user input events, or when listening to incoming data over a socket.\n",
    "\n",
    "Ok, let's practice this observer pattern a bit more. Write each of these producers and subscribe to it with `printer`.\n",
    "\n",
    "1. Write a producer that emits the values 1 through 10 using a loop\n",
    "2. Write a producer that takes two arguments, first argument is a list of values to be emitted, second is the observer. Try this out by first providing it a list of numbers, then calling printer on it."
   ]
  },
  {
   "cell_type": "code",
   "execution_count": null,
   "metadata": {
    "dotnet_interactive": {
     "language": "fsharp"
    }
   },
   "outputs": [
    {
     "name": "stdout",
     "output_type": "stream",
     "text": [
      "received: 1\r\n",
      "received: 2\r\n",
      "received: 3\r\n",
      "received: 4\r\n",
      "received: 5\r\n",
      "received: 6\r\n",
      "received: 7\r\n",
      "received: 8\r\n",
      "received: 9\r\n",
      "received: 10\r\n",
      "received: 1\r\n",
      "received: 2\r\n",
      "received: 3\r\n"
     ]
    }
   ],
   "source": [
    "let produce100 observer = for i in 1..10 do observer i\n",
    "produce100 printer\n",
    "\n",
    "let produceFrom ls observer = for i in ls do observer i\n",
    "let produce123 = produceFrom [1;2;3]\n",
    "produce123 printer"
   ]
  },
  {
   "cell_type": "markdown",
   "metadata": {},
   "source": [
    "Great! We're one step closer to writing our reactive library!"
   ]
  }
 ],
 "metadata": {
  "kernelspec": {
   "display_name": ".NET (F#)",
   "language": "F#",
   "name": ".net-fsharp"
  },
  "language_info": {
   "name": "F#"
  }
 },
 "nbformat": 4,
 "nbformat_minor": 2
}
