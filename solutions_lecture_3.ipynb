{
 "cells": [
  {
   "cell_type": "markdown",
   "metadata": {
    "dotnet_interactive": {
     "language": "csharp"
    },
    "polyglot_notebook": {
     "kernelName": "csharp"
    }
   },
   "source": [
    "# Recursion with pattern matching\n",
    "\n",
    "This set of exercises is meant to make you skilled at writing succinct recursive functions using pattern matching.\n",
    "\n",
    "Good luck!"
   ]
  },
  {
   "cell_type": "markdown",
   "metadata": {
    "dotnet_interactive": {
     "language": "csharp"
    },
    "polyglot_notebook": {
     "kernelName": "csharp"
    }
   },
   "source": [
    "### Exercise 1\n",
    "\n",
    "Given the list of people below, do the following using operators on lists (for example `map`, `filter`, etc.).\n",
    "\n",
    "1. Add \"Dear \" in front of each name. Result type: `string list`\n",
    "2. Create a function `string -> string` that adds \"Dear \" in front of the string. Apply this function to each name, then print each result on the console on a separate line.\n",
    "3. Show a list of all letters (including doubles).\n",
    "4. Show a list of all unique letters (Case-sensitive).\n",
    "5. Add together the size (length) of all names.\n",
    "6. Create the string \"Dear *name1*, *name2*, ..., *nameN*,\" with `fold`.\n",
    "7. How many people have \"an\" (case-insensitive, this requires an extra step!) in their name?\n",
    "8. How many names are 3 letters long?\n",
    "9. Do all names contain a capital letter? (use forall)\n",
    "10. Is there any name with the letter y or q in it? (use exists)\n",
    "11. Show all names with the letter y or q in them (result type is `string list`).\n",
    "12. Can you group the names by their size? (check [groupBy](https://fsharp.github.io/fsharp-core-docs/reference/fsharp-collections-listmodule.html#groupBy))\n",
    "13. Are there duplicate names in the list?"
   ]
  },
  {
   "cell_type": "code",
   "execution_count": null,
   "metadata": {
    "dotnet_interactive": {
     "language": "fsharp"
    },
    "vscode": {
     "languageId": "polyglot-notebook"
    }
   },
   "outputs": [],
   "source": [
    "let people = [\"Alfred\"; \"Boris\"; \"Ann\"; \"Jan\"; \"Anya\"; \"Monique\"; \"Mo\"; \"Christophe\"; \"Jan\"; \"Joris\"; \"Bert\"; \"Olaf\"]\n",
    "\n",
    "// 1\n",
    "people |> List.map (fun name -> \"Dear \" + name) |> printfn \"1. %A\"\n",
    "\n",
    "// 2\n",
    "let dearPrepender name = \"Dear \" + name\n",
    "people |> List.map dearPrepender |> List.iter (printfn \"%s\")\n",
    "\n",
    "// 3\n",
    "people |> List.collect (fun name -> Seq.toList name) |> printfn \"3. %A\"\n",
    "\n",
    "// 4\n",
    "people |> List.collect (fun name -> Seq.toList name) |> List.distinct |> printfn \"4. %A\"\n",
    "\n",
    "// 5\n",
    "people |> List.map (fun name -> name.Length) |> List.sum |> printfn \"5a. %i\"\n",
    "people |> List.map (fun name -> name.Length) |> List.reduce (fun x y -> x + y) |> printfn \"5b. %i\"\n",
    "people |> List.mapFold (fun acc name -> name.Length, acc + name.Length) 0 |> printfn \"5c. %A\"\n",
    "\n",
    "// 6\n",
    "people |> List.fold (fun acc name -> acc + name + \", \" ) \"Dear \" |> printfn \"6. %A\"\n",
    "\n",
    "// 7\n",
    "people |> List.map (fun name -> name.ToLower()) |> List.filter (fun name -> name.Contains \"an\") |> fun ls -> ls.Length |> printfn \"7. %i\"\n",
    "\n",
    "// 8\n",
    "people |> List.filter (fun name -> name.Length = 3) |> fun ls -> ls.Length |> printfn \"8. %i\"\n",
    "\n",
    "// 9\n",
    "people |> List.forall (fun name -> name.ToLower() <> name) |> printfn \"9. %b\"\n",
    "\n",
    "// 10\n",
    "let yqFinder = fun (name: string) -> name.Contains \"q\" || name.Contains \"y\"\n",
    "people |> List.exists yqFinder |> printfn \"10. %b\"\n",
    "\n",
    "// 11\n",
    "people |> List.filter yqFinder |> printfn \"11. %A\"\n",
    "\n",
    "// 12\n",
    "people |> List.groupBy (fun name -> name.Length) |> printfn \"12. %A\"\n",
    "\n",
    "// 13\n",
    "(List.distinct people, people) ||> fun a b -> a.Length <> b.Length |> printfn \"13. %b\""
   ]
  },
  {
   "cell_type": "markdown",
   "metadata": {
    "dotnet_interactive": {
     "language": "csharp"
    },
    "polyglot_notebook": {
     "kernelName": "csharp"
    }
   },
   "source": [
    "### Exercise 2\n",
    "\n",
    "Write the following functions. Use recursion and pattern matching.\n",
    "\n",
    "1. `size`: `'a list -> int` gives the size of the list (generic!)\n",
    "2. `sum`: `int list -> int` gives the sum of all integers\n",
    "3. `max`: `int list -> int` gives the largest value in the list\n",
    "4. `replicate`: `string -> int -> string` replicates the string that number of times"
   ]
  },
  {
   "cell_type": "code",
   "execution_count": null,
   "metadata": {
    "dotnet_interactive": {
     "language": "fsharp"
    },
    "vscode": {
     "languageId": "polyglot-notebook"
    }
   },
   "outputs": [],
   "source": [
    "// for testing\n",
    "let nums = [1..5]\n",
    "\n",
    "// 1\n",
    "let rec size ls = \n",
    "    match ls with\n",
    "        | [] -> 0\n",
    "        | _ :: tail -> 1 + size tail\n",
    "\n",
    "printfn \"1. %i\" (size nums)\n",
    "\n",
    "// 2\n",
    "let rec sum ls =\n",
    "    match ls with\n",
    "        | [] -> 0\n",
    "        | head :: tail -> head + sum tail\n",
    "\n",
    "printfn \"2. %i\" (sum nums)\n",
    "\n",
    "// 3\n",
    "let rec max ls =\n",
    "    match ls with\n",
    "        | [] -> 0 // next lecture we'll learn how to do this better!\n",
    "        | head :: [] -> head\n",
    "        | el1 :: el2 :: tail when el1 > el2 -> max (el1 :: tail)\n",
    "        | _ :: tail -> max tail\n",
    "\n",
    "printfn \"3. %i\" (max nums)\n",
    "\n",
    "// 4\n",
    "let rec replicateA (s: string) (n: int) = \n",
    "    if n > 0 then s + replicateA s (n-1)\n",
    "    else \"\"\n",
    "\n",
    "let rec replicateB (s: string) (n: int) =\n",
    "    match n with\n",
    "        | n when n > 0 -> s + replicateB s (n-1)\n",
    "        | _ -> \"\"\n",
    "\n",
    "printfn \"4a. %s\" (replicateA \"Avans\" 3)\n",
    "printfn \"4b. %s\" (replicateB \"Avans\" 3)"
   ]
  },
  {
   "cell_type": "markdown",
   "metadata": {
    "dotnet_interactive": {
     "language": "csharp"
    },
    "polyglot_notebook": {
     "kernelName": "csharp"
    }
   },
   "source": [
    "### Exercise 3\n",
    "\n",
    "More recursive functions with pattern matching! These functions work like those in the lecture slides or in most languages, but you have to implement them yourself!\n",
    "\n",
    "1. `map`: `('a -> 'b) -> 'a list -> 'b list` maps a list of values to another list of values.\n",
    "2. `foreach`: `('a -> unit) -> 'a list -> unit` calls a function for each element in the list.\n",
    "3. `reduce`: `('a -> 'a -> 'a) -> 'a list -> 'a` reduces a list pairwise to one value\n",
    "4. `count`: `('a -> bool) -> 'a list -> int` count the number of times the function returns true when applied on each element.\n",
    "5. `forall`: `('a -> bool) -> 'a list -> bool` checks whether the function returns true for each element in the list.\n",
    "6. `exists`: `('a -> bool) -> 'a list -> bool` checks whether any of the elements in the list make the function return true.\n",
    "7. `filter`: `('a -> bool) -> 'a list -> 'a list` filters out any value for which the function returns false.\n",
    "8. `take`: `int -> 'a list -> 'a list` takes the first n values from the list.\n",
    "9. `drop`: `int -> 'a list -> 'a list` ignores the first n values from the list.\n",
    "10. `contains`: `'a -> 'a list -> bool` checks whether a value is in the list.\n",
    "11. `last`: `'a list -> 'a` returns the last element of the list.\n",
    "12. `reverse`: `'a list -> 'a list` reverses the list."
   ]
  },
  {
   "cell_type": "code",
   "execution_count": 1,
   "metadata": {
    "dotnet_interactive": {
     "language": "fsharp"
    },
    "vscode": {
     "languageId": "polyglot-notebook"
    }
   },
   "outputs": [
    {
     "name": "stdout",
     "output_type": "stream",
     "text": [
      "1. [2; 4; 6; 8; 10]\n",
      "2. 1, 2, 3, 4, 5, \n",
      "3. 15\n",
      "4. 2\n",
      "5. false\n",
      "6. true\n",
      "7. [2; 4]\n",
      "8.1 []\n",
      "8.2 [1; 2; 3]\n",
      "8.3 [1; 2; 3; 4; 5]\n",
      "9.1 [1; 2; 3; 4; 5]\n",
      "9.2 [3; 4; 5]\n",
      "9.3 []\n",
      "10.1 true\n",
      "10.1 false\n",
      "11. 5\n",
      "12a. [5; 4; 3; 2; 1]\n",
      "12b. [5; 4; 3; 2; 1]\n"
     ]
    }
   ],
   "source": [
    "// for testing\n",
    "let nums = [1..5]\n",
    "\n",
    "// 1\n",
    "let rec map transform ls =\n",
    "    match ls with \n",
    "        | [] -> []\n",
    "        | head :: tail -> transform head :: (map transform tail)\n",
    "\n",
    "nums |> map (fun num -> 2*num) |> printfn \"1. %A\"\n",
    "\n",
    "// 2\n",
    "let rec foreach func ls =\n",
    "    match ls with\n",
    "        | [] -> ()\n",
    "        | head :: tail -> \n",
    "            func head\n",
    "            foreach func tail\n",
    "\n",
    "printf \"2. \"\n",
    "nums |> foreach (printf \"%i, \")\n",
    "printfn \"\"\n",
    "\n",
    "// 3\n",
    "let rec reduce reducer ls =\n",
    "    match ls with // it warns of an unhandled case, we can't handle it without error handling (next lecture!)\n",
    "        | head :: [] -> head\n",
    "        | a :: b :: tail -> reduce reducer ((reducer a b) :: tail)\n",
    "\n",
    "nums |> reduce (fun x y -> x + y) |> printfn \"3. %i\"\n",
    "\n",
    "// 4\n",
    "let rec count predicate ls =\n",
    "    match ls with\n",
    "        | [] -> 0\n",
    "        | head :: tail when predicate head -> 1 + count predicate tail\n",
    "        | _ :: tail -> count predicate tail\n",
    "\n",
    "nums |> count (fun n -> n % 2 = 0) |> printfn \"4. %i\"\n",
    "\n",
    "// 5\n",
    "let rec forall predicate ls =\n",
    "    match ls with\n",
    "        | [] -> true\n",
    "        | head :: tail when predicate head -> forall predicate tail\n",
    "        | _ -> false\n",
    "\n",
    "nums |> forall (fun n -> n < 3) |> printfn \"5. %b\"\n",
    "\n",
    "// 6\n",
    "let rec exists predicate ls =\n",
    "    match ls with\n",
    "        | [] -> false\n",
    "        | head :: tail when not (predicate head) -> exists predicate tail\n",
    "        | _ -> true\n",
    "\n",
    "nums |> exists (fun n -> n = 5) |> printfn \"6. %b\"\n",
    "\n",
    "// 7\n",
    "let rec filter predicate ls =\n",
    "    match ls with\n",
    "        | [] -> []\n",
    "        | head :: tail when predicate head -> head :: (filter predicate tail)\n",
    "        | _ :: tail -> filter predicate tail\n",
    "\n",
    "nums |> filter (fun n -> n % 2 = 0) |> printfn \"7. %A\"\n",
    "\n",
    "// 8\n",
    "let rec take n ls =\n",
    "    match ls, n with\n",
    "        | head :: tail, n when n > 0 -> head :: (take (n-1) tail)\n",
    "        | _ -> []\n",
    "\n",
    "nums |> take 0 |> printfn \"8.1 %A\"\n",
    "nums |> take 3 |> printfn \"8.2 %A\"\n",
    "nums |> take 8 |> printfn \"8.3 %A\"\n",
    "\n",
    "// 9\n",
    "let rec drop n ls =\n",
    "    match ls, n with\n",
    "        | _ :: tail, n when n > 0 -> drop (n-1) tail\n",
    "        | ls, _ -> ls\n",
    "\n",
    "nums |> drop 0 |> printfn \"9.1 %A\"\n",
    "nums |> drop 2 |> printfn \"9.2 %A\"\n",
    "nums |> drop 8 |> printfn \"9.3 %A\"\n",
    "\n",
    "// 10\n",
    "let rec contains elem ls = \n",
    "    match ls with\n",
    "        | [] -> false\n",
    "        | head :: _ when elem = head -> true\n",
    "        | _ :: tail -> contains elem tail\n",
    "\n",
    "nums |> contains 3 |> printfn \"10.1 %b\"\n",
    "nums |> contains 6 |> printfn \"10.1 %b\"\n",
    "\n",
    "// 11\n",
    "let rec last ls =\n",
    "    match ls with // we again need error handling to handle the last case (next lecture!)\n",
    "        | head :: [] -> head\n",
    "        | _ :: tail -> last tail\n",
    "\n",
    "nums |> last |> printfn \"11. %i\"\n",
    "\n",
    "// 12\n",
    "let rec reverse ls =\n",
    "    match ls with\n",
    "        | [] -> []\n",
    "        | head :: tail -> (reverse tail) @ [head] // expensive\n",
    "\n",
    "let rec reverseCheap result ls =\n",
    "    match ls with\n",
    "        | [] -> result\n",
    "        | head :: tail -> reverseCheap (head :: result) tail\n",
    "\n",
    "nums |> reverse |> printfn \"12a. %A\"\n",
    "nums |> reverseCheap [] |> printfn \"12b. %A\""
   ]
  },
  {
   "cell_type": "markdown",
   "metadata": {
    "dotnet_interactive": {
     "language": "csharp"
    },
    "polyglot_notebook": {
     "kernelName": "csharp"
    }
   },
   "source": [
    "### Exercise 4\n",
    "\n",
    "Ok... two more recursive functions 😩\n",
    "\n",
    "1. `swap`: `('a, 'b) list -> ('b, 'a) list` swaps all tuples in a list around.\n",
    "2. `zip`: `'a list -> 'a list -> ('a, 'a) list` zips together two lists into a list of tuples."
   ]
  },
  {
   "cell_type": "code",
   "execution_count": null,
   "metadata": {
    "dotnet_interactive": {
     "language": "fsharp"
    },
    "vscode": {
     "languageId": "polyglot-notebook"
    }
   },
   "outputs": [],
   "source": [
    "// 1\n",
    "let tups = [(1, \"one\"); (2, \"two\"); (3, \"three\")]\n",
    "\n",
    "let rec swap ls =\n",
    "    match ls with\n",
    "        | [] -> []\n",
    "        | (a, b) :: tail -> (b, a) :: swap tail\n",
    "\n",
    "tups |> swap |> printfn \"1. %A\" \n",
    "\n",
    "// 2\n",
    "let ints = [1;2;3]\n",
    "let words = [\"one\"; \"two\"; \"three\"]\n",
    "\n",
    "let rec zip ls1 ls2 = \n",
    "    match ls1, ls2 with\n",
    "        | _, [] -> []\n",
    "        | [], _ -> []\n",
    "        | head1 :: tail1, head2 :: tail2 -> (head1, head2) :: zip tail1 tail2\n",
    "\n",
    "(ints, words) ||> zip |> printfn \"2. %A\""
   ]
  }
 ],
 "metadata": {
  "kernelspec": {
   "display_name": ".NET (C#)",
   "language": "C#",
   "name": ".net-csharp"
  },
  "polyglot_notebook": {
   "kernelInfo": {
    "defaultKernelName": "csharp",
    "items": [
     {
      "aliases": [
       "c#",
       "C#"
      ],
      "languageName": "C#",
      "name": "csharp"
     },
     {
      "aliases": [],
      "name": ".NET"
     },
     {
      "aliases": [
       "f#",
       "F#"
      ],
      "languageName": "F#",
      "name": "fsharp"
     },
     {
      "aliases": [],
      "languageName": "HTML",
      "name": "html"
     },
     {
      "aliases": [
       "js"
      ],
      "languageName": "JavaScript",
      "name": "javascript"
     },
     {
      "aliases": [],
      "languageName": "KQL",
      "name": "kql"
     },
     {
      "aliases": [],
      "languageName": "Mermaid",
      "name": "mermaid"
     },
     {
      "aliases": [
       "powershell"
      ],
      "languageName": "PowerShell",
      "name": "pwsh"
     },
     {
      "aliases": [],
      "languageName": "SQL",
      "name": "sql"
     },
     {
      "aliases": [],
      "name": "value"
     },
     {
      "aliases": [
       "frontend"
      ],
      "name": "vscode"
     },
     {
      "aliases": [],
      "name": "webview"
     }
    ]
   }
  }
 },
 "nbformat": 4,
 "nbformat_minor": 2
}
