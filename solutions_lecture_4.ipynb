{
 "cells": [
  {
   "cell_type": "markdown",
   "metadata": {
    "dotnet_interactive": {
     "language": "fsharp"
    }
   },
   "source": [
    "# Sum & product types, and railways\n",
    "\n",
    "First you'll practice working with enums and then you can expand the railway example from the lecture.\n",
    "\n",
    "Have fun!"
   ]
  },
  {
   "cell_type": "markdown",
   "metadata": {
    "dotnet_interactive": {
     "language": "csharp"
    },
    "polyglot_notebook": {
     "kernelName": "csharp"
    }
   },
   "source": [
    "### Exercise 1\n",
    "\n",
    "Write the following functions that return options, as there is not always a return value. Don't use any loops, always write them recursively with pattern matching.\n",
    "\n",
    "1. The function `firstItem` that returns the first item from a list.\n",
    "2. The function `lastItem` that returns the last item from a list.\n",
    "3. The function `sumTwoOptions` that sums two options of numbers, there is only a result when both arguments are `Some`.\n",
    "4. The function `sum` that computes the sum of a list of integers (can be tail recursive).\n",
    "5. The function `max` that returns the largest item in a list of integers (can be tail recursive).\n",
    "6. The function `find` that returns the first element that matches. (signature: `('T -> bool) -> 'T list -> 'T Option`)"
   ]
  },
  {
   "cell_type": "code",
   "execution_count": 1,
   "metadata": {
    "dotnet_interactive": {
     "language": "fsharp"
    },
    "vscode": {
     "languageId": "polyglot-notebook"
    }
   },
   "outputs": [
    {
     "name": "stdout",
     "output_type": "stream",
     "text": [
      "1.a Some(1)\n",
      "1.b <null>\n",
      "2.a Some(3)\n",
      "2.b <null>\n",
      "3.a Some(3)\n",
      "3.b <null>\n",
      "4.a Some(6)\n",
      "4.b <null>\n",
      "4.c Some(6)\n",
      "4.d <null>\n",
      "4.e Some(6)\n",
      "4.f <null>\n",
      "5.a Some(3)\n",
      "5.b <null>\n",
      "6.a Some(2)\n",
      "6.a <null>\n"
     ]
    }
   ],
   "source": [
    "let firstItem ls = \n",
    "    match ls with\n",
    "        | head :: _ -> Some head\n",
    "        | [] -> None\n",
    "\n",
    "printfn \"1.a %O\" (firstItem [1;2;3])\n",
    "printfn \"1.b %O\" (firstItem [])\n",
    "\n",
    "let rec lastItem ls =\n",
    "    match ls with\n",
    "        | [] -> None\n",
    "        | head :: [] -> Some head\n",
    "        | head :: tail -> lastItem tail\n",
    "\n",
    "printfn \"2.a %O\" (lastItem [1;2;3])\n",
    "printfn \"2.b %O\" (lastItem [])\n",
    "\n",
    "let sumTwoOptions a b =\n",
    "    match (a,b) with\n",
    "        | (Some a, Some b) -> Some (a + b)\n",
    "        | _ -> None\n",
    "\n",
    "printfn \"3.a %O\" (sumTwoOptions (Some 1) (Some 2))\n",
    "printfn \"3.b %O\" (sumTwoOptions None (Some 2))\n",
    "\n",
    "// tail recursive\n",
    "let rec sumTail result ls =\n",
    "    match (ls, result) with\n",
    "        | ([], _) -> result\n",
    "        | (head :: tail, None) -> sumTail (Some head) tail\n",
    "        | (head :: tail, Some v) -> sumTail (Some (head + v)) tail\n",
    "\n",
    "let sum = sumTail None\n",
    "\n",
    "// sumTail [1;2;3]\n",
    "// 1e call: [1;2;3], None -> (1 :: [2;3], None)\n",
    "// 2e call: [2;3], Some 1 -> (2 :: [3]), Some 1)\n",
    "// 3e call: [3], Some 3 -> (3 :: [], Some 3)\n",
    "// 4e call: [], Some 6 -> ([], Some 6)\n",
    "// Some 6 is de return waarde\n",
    "\n",
    "// reduce-like\n",
    "let rec sumReduce ls =\n",
    "    match ls with\n",
    "        | [] -> None\n",
    "        | [last] -> Some last\n",
    "        | first :: second :: tail -> sumReduce (first + second :: tail)\n",
    "\n",
    "// using sumTwoOptions\n",
    "let rec sumAlternative list =\n",
    "    match list with\n",
    "    | [] -> None\n",
    "    | [x] -> Some x\n",
    "    | head :: tail -> sumTwoOptions (Some head) (sum tail)\n",
    "\n",
    "printfn \"4.a %O\" (sum [1;2;3])\n",
    "printfn \"4.b %O\" (sum [])\n",
    "printfn \"4.c %O\" (sumReduce [1;2;3])\n",
    "printfn \"4.d %O\" (sumReduce [])\n",
    "printfn \"4.e %O\" (sumAlternative [1;2;3])\n",
    "printfn \"4.f %O\" (sumAlternative [])\n",
    "\n",
    "let rec maxTail result ls =\n",
    "    match (ls, result) with\n",
    "        | ([], None) -> None\n",
    "        | ([], Some v) -> Some v\n",
    "        | (head :: tail, None) -> maxTail (Some head) tail\n",
    "        | (head :: tail, Some v) when v > head -> maxTail (Some v) tail\n",
    "        | (head :: tail, _) -> maxTail (Some head) tail\n",
    "\n",
    "let max = maxTail None\n",
    "\n",
    "printfn \"5.a %O\" (max [1;2;3])\n",
    "printfn \"5.b %O\" (max [])\n",
    "\n",
    "let rec find pred ls =\n",
    "    match ls with\n",
    "        | [] -> None\n",
    "        | head :: tail when pred head -> Some head\n",
    "        | _ :: tail -> find pred tail\n",
    "\n",
    "let isEven n = n % 2 = 0\n",
    "\n",
    "printfn \"6.a %O\" (find isEven [1;2;3;4])\n",
    "printfn \"6.a %O\" (find isEven [1;3;5;7])"
   ]
  },
  {
   "cell_type": "markdown",
   "metadata": {
    "dotnet_interactive": {
     "language": "csharp"
    },
    "polyglot_notebook": {
     "kernelName": "csharp"
    }
   },
   "source": [
    "### Exercise 2\n",
    "\n",
    "Another good use of enums (discriminated unions) is to encode possible states of information. In this exercise you will keep track of contact information. We want to be able to store phone numbers and email addresses. Not everyone needs to have a phone number or an email address, so all four combinations are allowed (neither, only phone, only email, both). \n",
    "\n",
    "1. Write one enum (discriminated union) type `ContactInfo` that can store all four states. Note that one does not contain a field, two contain a string and one contains a tuple of two strings.\n",
    "2. Now we want to add a phone number. Write a function `updatePhone: string -> ContactInfo -> ContactInfo` that adds the phone number to the given ContactInfo instance. It should handle all cases!\n",
    "3. Do the same for `updateEmail`.\n",
    "4. Now write a function `sendEmail` that mocks sending an email. This function should only send the email if an email address is known. You can mock sending an email by just printing \"sent msg to me@example.com\" in the console.\n",
    "5. Test your implementation\n",
    "\n",
    "Congrats, you just implementated a simple state pattern!\n",
    "\n",
    "The enums are very handy to encode the state you are currently in. Then all the state changing functions are simple match functions that return an updated enum.\n",
    "\n",
    "You can think about how you would use this to for example implement a state pattern for a webshop. The state of the cart could be empty, filled but not paid, and then paid. The mutating functions could add items to the cart or could process payment."
   ]
  },
  {
   "cell_type": "code",
   "execution_count": null,
   "metadata": {
    "dotnet_interactive": {
     "language": "fsharp"
    },
    "vscode": {
     "languageId": "polyglot-notebook"
    }
   },
   "outputs": [],
   "source": [
    "type ContactInfo =\n",
    "    | Unknown\n",
    "    | Phone of string\n",
    "    | Email of string\n",
    "    | EmailAndPhone of string * string\n",
    "\n",
    "let updatePhone phone info =\n",
    "    match info with\n",
    "        | Unknown | Phone _ -> Phone phone\n",
    "        | Email email | EmailAndPhone (email, _) -> EmailAndPhone (email, phone)\n",
    "\n",
    "let updateEmail email info =\n",
    "    match info with\n",
    "        | Unknown | Email _ -> Email email\n",
    "        | Phone phone | EmailAndPhone (_, phone) -> EmailAndPhone (email, phone)\n",
    "\n",
    "let sendEmail message info =\n",
    "    match info with\n",
    "        | Email email | EmailAndPhone (email, _) -> printfn \"sent %s to %s\" message email\n",
    "        | _ -> printfn \"unable to send email\"\n",
    "\n",
    "let unknownInfo = Unknown\n",
    "let phoneInfo = updatePhone \"0123456789\" unknownInfo\n",
    "let bothInfo = updateEmail \"me@example.com\" phoneInfo\n",
    "\n",
    "printfn \"unknown %O\" unknownInfo\n",
    "printfn \"phone   %O\" phoneInfo\n",
    "printfn \"both    %O\" bothInfo"
   ]
  },
  {
   "cell_type": "markdown",
   "metadata": {
    "dotnet_interactive": {
     "language": "csharp"
    },
    "polyglot_notebook": {
     "kernelName": "csharp"
    }
   },
   "source": [
    "### Exercise 3\n",
    "\n",
    "In the lecture we implemented the `connect` function that makes railway oriented error handling possible. You find this function below, together with mocked versions of `validate`, `updateDb`, and `sendEmail`. You'll expand on this example in two ways:\n",
    "\n",
    "1. We want to add a prefix to each `request`. This function should take a string `s` and return `\"Request\" + s`. This function will never produce an error, so it cannot switch to the error track! Think about whether we can still apply `connect` to it and then add the prefix step between `validate` and `updateDb`.\n",
    "2. Our use case slightly changed, we now always want to send an email, to keep everyone updated even if an error occurs in validation or in the database. However, sending the email can still go wrong. At the end of track we still need a `Result` (`Ok` if the email was sent successfully, `Error` if the email failed). We should never get an `Error` from the database, as we just keep everyone up to date with the email and then it's fine. \n",
    "In order to do this we need to be able to switch back from the error track to the happy track. Take a look at the last slide of lecture 4 for the complete track we want to build.\n",
    "Now write the function `recover` that simply prepends the string with whether the request failed or not. When recover receives `Ok value` it returns the string `\"success: value\"`, when it receives `Error value` it returns the string `\"error: value\"`.\n",
    "Then write the function `catch` to connect `recover` in the pipeline and test the pipeline!"
   ]
  },
  {
   "cell_type": "code",
   "execution_count": null,
   "metadata": {
    "dotnet_interactive": {
     "language": "fsharp"
    },
    "vscode": {
     "languageId": "polyglot-notebook"
    }
   },
   "outputs": [],
   "source": [
    "let rnd = (new System.Random())\n",
    "\n",
    "let validate (request: string) =\n",
    "    if request.Length > 5 then Ok request\n",
    "    else Error \"invalid request\"\n",
    "\n",
    "let updateDb request =\n",
    "    let prob = rnd.NextDouble()\n",
    "    if prob < 0.1 then Error \"database unavailable\"\n",
    "    else if prob < 0.3 then Error \"request unknown in database\"\n",
    "    else Ok request\n",
    "\n",
    "let sendEmail request = \n",
    "    let prob = rnd.NextDouble()\n",
    "    if prob < 0.1 then Error \"sending email failed\"\n",
    "    else Ok (\"email sent successfully (\" + request + \")\")\n",
    "\n",
    "let connect func request = \n",
    "    match request with\n",
    "        | Ok value -> func value\n",
    "        | Error value -> Error value\n",
    "\n",
    "let handleUseCase = validate >> connect updateDb >> connect sendEmail\n",
    "\n",
    "handleUseCase \"validRequest\"\n",
    "\n",
    "// step 1:\n",
    "let prefix request = \"Request\" + request\n",
    "\n",
    "let connectNoFail func request =\n",
    "    match request with\n",
    "        | Ok value -> Ok (func value)\n",
    "        | Error value -> Error value\n",
    "\n",
    "let handleUseCasePrefix = validate >> connectNoFail prefix >> connect updateDb >> connect sendEmail\n",
    "\n",
    "handleUseCasePrefix \"validRequest\"\n",
    "\n",
    "// step 2:\n",
    "let recover result =\n",
    "    match result with\n",
    "        | Ok value -> \"success: \" + value\n",
    "        | Error value -> \"error: \" + value\n",
    "\n",
    "let catch func result = Ok (recover result)\n",
    "\n",
    "let handleUseCasePrefixRecover = validate >> connectNoFail prefix >> connect updateDb >> catch recover >> connect sendEmail\n",
    "\n",
    "handleUseCasePrefixRecover \"validRequest\""
   ]
  },
  {
   "cell_type": "markdown",
   "metadata": {
    "dotnet_interactive": {
     "language": "csharp"
    },
    "polyglot_notebook": {
     "kernelName": "csharp"
    }
   },
   "source": [
    "When you're all done with this exercise you should think back to JS promises for a moment. You can chain promises together with `then` and recover from errors with `catch`. You might have not used it much, but you can keep going with the chain after a `catch`. \n",
    "\n",
    "JS promise chaining is Railway Oriented Programming! 😍\n",
    "\n",
    "(btw.. I can't get this to work with promises in the notebook, you might have to run it elsewhere if you want to run it.)"
   ]
  },
  {
   "cell_type": "code",
   "execution_count": null,
   "metadata": {
    "dotnet_interactive": {
     "language": "javascript"
    },
    "vscode": {
     "languageId": "polyglot-notebook"
    }
   },
   "outputs": [],
   "source": [
    "const chain = new Promise((resolve, _) => resolve(\"value\"))\n",
    "\n",
    "chain\n",
    "    .then(val => new Promise((_, reject) => reject(\"oh nee toch niet\")))\n",
    "    .catch(err => new Promise((resolve, _) => resolve(\"weer opgelost\")))\n",
    "    .then(console.log)"
   ]
  }
 ],
 "metadata": {
  "kernelspec": {
   "display_name": ".NET (C#)",
   "language": "C#",
   "name": ".net-csharp"
  },
  "polyglot_notebook": {
   "kernelInfo": {
    "defaultKernelName": "csharp",
    "items": [
     {
      "aliases": [
       "c#",
       "C#"
      ],
      "languageName": "C#",
      "name": "csharp"
     },
     {
      "aliases": [
       "frontend"
      ],
      "name": "vscode"
     },
     {
      "aliases": [],
      "name": ".NET"
     },
     {
      "aliases": [
       "f#",
       "F#"
      ],
      "languageName": "F#",
      "name": "fsharp"
     },
     {
      "aliases": [],
      "languageName": "HTML",
      "name": "html"
     },
     {
      "aliases": [
       "js"
      ],
      "languageName": "JavaScript",
      "name": "javascript"
     },
     {
      "aliases": [],
      "languageName": "KQL",
      "name": "kql"
     },
     {
      "aliases": [],
      "languageName": "Mermaid",
      "name": "mermaid"
     },
     {
      "aliases": [
       "powershell"
      ],
      "languageName": "PowerShell",
      "name": "pwsh"
     },
     {
      "aliases": [],
      "languageName": "SQL",
      "name": "sql"
     },
     {
      "aliases": [],
      "name": "value"
     },
     {
      "aliases": [],
      "name": "webview"
     }
    ]
   }
  }
 },
 "nbformat": 4,
 "nbformat_minor": 2
}
